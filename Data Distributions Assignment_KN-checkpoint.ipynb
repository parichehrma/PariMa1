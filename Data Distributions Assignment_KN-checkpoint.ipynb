{
 "cells": [
  {
   "cell_type": "code",
   "execution_count": 1,
   "metadata": {},
   "outputs": [],
   "source": [
    "import numpy as np\n",
    "import pandas as pd\n",
    "import matplotlib.pyplot as plt\n",
    "%matplotlib inline\n"
   ]
  },
  {
   "cell_type": "code",
   "execution_count": 2,
   "metadata": {},
   "outputs": [
    {
     "name": "stdout",
     "output_type": "stream",
     "text": [
      "[6 5 3 5 5 6 9 3 4 6 6 5 8 6 6 3 6 4 6 4 3 4 6 5 7 3 2 6 7 3 4 6 7 5 4 9 5\n",
      " 4 4 3 5 4 7 4 4 2 7 5 3 5 5 5 8 4 7 4 5 3 7 6 5 7 4 3 3 6 4 4 6 7 6 4 4 6\n",
      " 5 6 4 6 5 7 6 2 7 3 5 6 4 5 6 4 5 3 6 3 3 4 4 5 3 4]\n"
     ]
    },
    {
     "data": {
      "text/plain": [
       "<function matplotlib.pyplot.show>"
      ]
     },
     "execution_count": 2,
     "metadata": {},
     "output_type": "execute_result"
    },
    {
     "data": {
      "image/png": "[encoded data removed]",
      "text/plain": [
       "<Figure size 432x288 with 1 Axes>"
      ]
     },
     "metadata": {
      "needs_background": "light"
     },
     "output_type": "display_data"
    }
   ],
   "source": [
    "binomial = np.random.binomial(10, 0.5, 100)\n",
    "#print(binomial)\n",
    "plt.hist(binomial)\n",
    "plt.show"
   ]
  },
  {
   "cell_type": "code",
   "execution_count": 3,
   "metadata": {
    "scrolled": true
   },
   "outputs": [
    {
     "data": {
      "image/png": "[encoded data removed]",
      "text/plain": [
       "<Figure size 432x288 with 1 Axes>"
      ]
     },
     "metadata": {
      "needs_background": "light"
     },
     "output_type": "display_data"
    }
   ],
   "source": [
    "plt.hist(binomial, bins=5, color = 'c')\n",
    "\n",
    "# Add a vertical line at the mean.\n",
    "plt.axvline(binomial.mean(), color='b', linestyle='solid', linewidth=2)\n",
    "\n",
    "# Add a vertical line at one standard deviation above the mean.\n",
    "plt.axvline(binomial.mean() + binomial.std(), color='b', linestyle='dashed', linewidth=2)\n",
    "\n",
    "#Add a vertical line at one standard deviation below the mean.\n",
    "plt.axvline(binomial.mean() - binomial.std(), color='b', linestyle='dashed', linewidth=2)\n",
    "\n",
    "# Print the histogram.\n",
    "plt.show()"
   ]
  },
  {
   "cell_type": "code",
   "execution_count": 4,
   "metadata": {},
   "outputs": [],
   "source": [
    "#Because binomial is normal, the mean is placed where the data clusters\n",
    "#With approximately 50% of the data falling on either side\n",
    "#And approximately 67% of the data falling within one standard deviation of the mean."
   ]
  },
  {
   "cell_type": "code",
   "execution_count": 5,
   "metadata": {},
   "outputs": [],
   "source": [
    "#???Can you identify any common characteristics of the distributions that could be usefully described \n",
    "#using the mean and/or standard deviation, versus the ones that could not??? \n",
    "\n",
    "## you can use mean/median/std for bell curve (even it's not normal), but so other dist (such as step wise dist) \n",
    "## it doesnt add much info with mean/median/mode/std "
   ]
  },
  {
   "cell_type": "code",
   "execution_count": 6,
   "metadata": {},
   "outputs": [],
   "source": [
    "rand1=np.random.normal(5, 0.5, 100)\n",
    "rand2=np.random.normal(10, 1, 100 )\n",
    "rand3= rand1+rand2"
   ]
  },
  {
   "cell_type": "code",
   "execution_count": 7,
   "metadata": {},
   "outputs": [
    {
     "data": {
      "image/png": "[encoded data removed]",
      "text/plain": [
       "<Figure size 432x288 with 1 Axes>"
      ]
     },
     "metadata": {
      "needs_background": "light"
     },
     "output_type": "display_data"
    }
   ],
   "source": [
    "plt.hist(rand3)\n",
    "plt.axvline(rand3.mean(), color='r', linestyle='solid', linewidth=2)\n",
    "plt.axvline(rand3.mean() + rand3.std(), color='r', linestyle='dashed', linewidth=2)\n",
    "plt.axvline(rand3.mean() - rand3.std(), color='r', linestyle='dashed', linewidth=2)\n",
    "plt.show()"
   ]
  },
  {
   "cell_type": "code",
   "execution_count": 8,
   "metadata": {},
   "outputs": [],
   "source": [
    "#Evaluate the descriptive statistics against the data????\n",
    "#Because rand3 is normal, the mean is placed where the data clusters\n",
    "#with approximately 50% of the data falling on either side\n",
    "#and approximately 67% of the data falling within one standard deviation of the mean."
   ]
  },
  {
   "cell_type": "code",
   "execution_count": 13,
   "metadata": {},
   "outputs": [
    {
     "data": {
      "text/plain": [
       "(array([ 1.,  1., 15., 12., 21., 19., 10., 11.,  8.,  2.]),\n",
       " array([ 98.7801354 ,  99.02488546,  99.26963553,  99.51438559,\n",
       "         99.75913566, 100.00388572, 100.24863579, 100.49338585,\n",
       "        100.73813591, 100.98288598, 101.22763604]),\n",
       " <a list of 10 Patch objects>)"
      ]
     },
     "execution_count": 13,
     "metadata": {},
     "output_type": "execute_result"
    },
    {
     "data": {
      "image/png": "[encoded data removed]",
      "text/plain": [
       "<Figure size 432x288 with 1 Axes>"
      ]
     },
     "metadata": {
      "needs_background": "light"
     },
     "output_type": "display_data"
    }
   ],
   "source": [
    "# one thing to note is when you draw more from dist, it converges\n",
    "\n",
    "a= np.random.normal(100, 0.5, 100)\n",
    "\n",
    "plt.hist(a)"
   ]
  },
  {
   "cell_type": "code",
   "execution_count": 14,
   "metadata": {},
   "outputs": [
    {
     "data": {
      "text/plain": [
       "(array([  26.,  186.,  737., 1821., 2683., 2514., 1410.,  495.,  112.,\n",
       "          16.]), array([ 98.26059038,  98.61879066,  98.97699094,  99.33519122,\n",
       "         99.6933915 , 100.05159178, 100.40979206, 100.76799234,\n",
       "        101.12619263, 101.48439291, 101.84259319]), <a list of 10 Patch objects>)"
      ]
     },
     "execution_count": 14,
     "metadata": {},
     "output_type": "execute_result"
    },
    {
     "data": {
      "image/png": "[encoded data removed]",
      "text/plain": [
       "<Figure size 432x288 with 1 Axes>"
      ]
     },
     "metadata": {
      "needs_background": "light"
     },
     "output_type": "display_data"
    }
   ],
   "source": [
    "a= np.random.normal(100, 0.5, 10000)\n",
    "plt.hist(a)"
   ]
  },
  {
   "cell_type": "code",
   "execution_count": 15,
   "metadata": {},
   "outputs": [
    {
     "data": {
      "text/plain": [
       "(array([7.40000e+01, 1.75800e+03, 2.23360e+04, 1.22368e+05, 3.02539e+05,\n",
       "        3.38270e+05, 1.70058e+05, 3.86060e+04, 3.83200e+03, 1.59000e+02]),\n",
       " array([ 97.62719907,  98.08928862,  98.55137816,  99.01346771,\n",
       "         99.47555726,  99.9376468 , 100.39973635, 100.8618259 ,\n",
       "        101.32391544, 101.78600499, 102.24809454]),\n",
       " <a list of 10 Patch objects>)"
      ]
     },
     "execution_count": 15,
     "metadata": {},
     "output_type": "execute_result"
    },
    {
     "data": {
      "image/png": "[encoded data removed]",
      "text/plain": [
       "<Figure size 432x288 with 1 Axes>"
      ]
     },
     "metadata": {
      "needs_background": "light"
     },
     "output_type": "display_data"
    }
   ],
   "source": [
    "\n",
    "a= np.random.normal(100, 0.5, 1000000)\n",
    "\n",
    "plt.hist(a)"
   ]
  },
  {
   "cell_type": "code",
   "execution_count": null,
   "metadata": {},
   "outputs": [],
   "source": []
  }
 ],
 "metadata": {
  "kernelspec": {
   "display_name": "Python 3",
   "language": "python",
   "name": "python3"
  },
  "language_info": {
   "codemirror_mode": {
    "name": "ipython",
    "version": 3
   },
   "file_extension": ".py",
   "mimetype": "text/x-python",
   "name": "python",
   "nbconvert_exporter": "python",
   "pygments_lexer": "ipython3",
   "version": "3.7.3"
  }
 },
 "nbformat": 4,
 "nbformat_minor": 2
}
