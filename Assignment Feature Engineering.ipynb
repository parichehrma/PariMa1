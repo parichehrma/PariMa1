{
 "cells": [
  {
   "cell_type": "markdown",
   "metadata": {},
   "source": [
    "Assignment:\n",
    "\n",
    "In this assignment, you'll continue working with the Students Performance in Exams dataset from Kaggle. You should access the data from the Thinkful database. Here's the credentials you can use to connect to the database:\n",
    "\n",
    "postgres_user = 'dsbc_student'\n",
    "postgres_pw = '7*.8G9QH21'\n",
    "postgres_host = '142.93.121.174'\n",
    "postgres_port = '5432'\n",
    "postgres_db = 'studentsperformance'\n",
    "\n",
    "To complete this assignment, submit a link to a Jupyter notebook containing your solutions to the following tasks:"
   ]
  },
  {
   "cell_type": "code",
   "execution_count": 1,
   "metadata": {},
   "outputs": [],
   "source": [
    "import numpy as np\n",
    "import pandas as pd\n",
    "import seaborn as sns\n",
    "import matplotlib.pyplot as plt\n",
    "import scipy.stats as stats\n",
    "from scipy.stats import jarque_bera\n",
    "from scipy.stats import normaltest\n",
    "from scipy.stats import boxcox\n",
    "import warnings\n",
    "warnings.filterwarnings('ignore')\n",
    "%matplotlib inline\n",
    "from sqlalchemy import create_engine"
   ]
  },
  {
   "cell_type": "code",
   "execution_count": 2,
   "metadata": {},
   "outputs": [],
   "source": [
    "postgres_user = 'dsbc_student'\n",
    "postgres_pw = '7*.8G9QH21' \n",
    "postgres_host = '142.93.121.174'\n",
    "postgres_port = '5432'\n",
    "postgres_db = 'studentsperformance'\n",
    "engine = create_engine('postgresql://{}:{}@{}:{}/{}'.format(postgres_user, postgres_pw, postgres_host, postgres_port, postgres_db))\n",
    "df = pd.read_sql_query('select * from studentsperformance', con=engine)\n",
    "engine.dispose()"
   ]
  },
  {
   "cell_type": "code",
   "execution_count": 3,
   "metadata": {
    "scrolled": true
   },
   "outputs": [
    {
     "data": {
      "text/html": [
       "<div>\n",
       "<style scoped>\n",
       "    .dataframe tbody tr th:only-of-type {\n",
       "        vertical-align: middle;\n",
       "    }\n",
       "\n",
       "    .dataframe tbody tr th {\n",
       "        vertical-align: top;\n",
       "    }\n",
       "\n",
       "    .dataframe thead th {\n",
       "        text-align: right;\n",
       "    }\n",
       "</style>\n",
       "<table border=\"1\" class=\"dataframe\">\n",
       "  <thead>\n",
       "    <tr style=\"text-align: right;\">\n",
       "      <th></th>\n",
       "      <th>gender</th>\n",
       "      <th>race/ethnicity</th>\n",
       "      <th>parental level of education</th>\n",
       "      <th>lunch</th>\n",
       "      <th>test preparation course</th>\n",
       "      <th>math score</th>\n",
       "      <th>reading score</th>\n",
       "      <th>writing score</th>\n",
       "    </tr>\n",
       "  </thead>\n",
       "  <tbody>\n",
       "    <tr>\n",
       "      <th>0</th>\n",
       "      <td>female</td>\n",
       "      <td>group B</td>\n",
       "      <td>bachelor's degree</td>\n",
       "      <td>standard</td>\n",
       "      <td>none</td>\n",
       "      <td>72</td>\n",
       "      <td>72</td>\n",
       "      <td>74</td>\n",
       "    </tr>\n",
       "    <tr>\n",
       "      <th>1</th>\n",
       "      <td>female</td>\n",
       "      <td>group C</td>\n",
       "      <td>some college</td>\n",
       "      <td>standard</td>\n",
       "      <td>completed</td>\n",
       "      <td>69</td>\n",
       "      <td>90</td>\n",
       "      <td>88</td>\n",
       "    </tr>\n",
       "    <tr>\n",
       "      <th>2</th>\n",
       "      <td>female</td>\n",
       "      <td>group B</td>\n",
       "      <td>master's degree</td>\n",
       "      <td>standard</td>\n",
       "      <td>none</td>\n",
       "      <td>90</td>\n",
       "      <td>95</td>\n",
       "      <td>93</td>\n",
       "    </tr>\n",
       "    <tr>\n",
       "      <th>3</th>\n",
       "      <td>male</td>\n",
       "      <td>group A</td>\n",
       "      <td>associate's degree</td>\n",
       "      <td>free/reduced</td>\n",
       "      <td>none</td>\n",
       "      <td>47</td>\n",
       "      <td>57</td>\n",
       "      <td>44</td>\n",
       "    </tr>\n",
       "    <tr>\n",
       "      <th>4</th>\n",
       "      <td>male</td>\n",
       "      <td>group C</td>\n",
       "      <td>some college</td>\n",
       "      <td>standard</td>\n",
       "      <td>none</td>\n",
       "      <td>76</td>\n",
       "      <td>78</td>\n",
       "      <td>75</td>\n",
       "    </tr>\n",
       "  </tbody>\n",
       "</table>\n",
       "</div>"
      ],
      "text/plain": [
       "   gender race/ethnicity parental level of education         lunch  \\\n",
       "0  female        group B           bachelor's degree      standard   \n",
       "1  female        group C                some college      standard   \n",
       "2  female        group B             master's degree      standard   \n",
       "3    male        group A          associate's degree  free/reduced   \n",
       "4    male        group C                some college      standard   \n",
       "\n",
       "  test preparation course  math score  reading score  writing score  \n",
       "0                    none          72             72             74  \n",
       "1               completed          69             90             88  \n",
       "2                    none          90             95             93  \n",
       "3                    none          47             57             44  \n",
       "4                    none          76             78             75  "
      ]
     },
     "execution_count": 3,
     "metadata": {},
     "output_type": "execute_result"
    }
   ],
   "source": [
    "df.head()"
   ]
  },
  {
   "cell_type": "markdown",
   "metadata": {},
   "source": [
    "1.Are the exam score variables normally distributed? If not, apply a Box-Cox transformation. Does anything change?"
   ]
  },
  {
   "cell_type": "code",
   "execution_count": 4,
   "metadata": {
    "scrolled": true
   },
   "outputs": [
    {
     "data": {
      "image/png": "[encoded data removed]",
      "text/plain": [
       "<Figure size 720x360 with 3 Axes>"
      ]
     },
     "metadata": {
      "needs_background": "light"
     },
     "output_type": "display_data"
    }
   ],
   "source": [
    "plt.figure(figsize=(10, 5))\n",
    "\n",
    "plt.subplot(1, 3, 1)\n",
    "plt.hist(df['math score'])\n",
    "plt.title('Math Score')\n",
    "\n",
    "plt.subplot(1, 3, 2)\n",
    "plt.hist(df['reading score'])\n",
    "plt.title('Reading Score')\n",
    "\n",
    "plt.subplot(1, 3, 3)\n",
    "plt.hist(df['writing score'])\n",
    "plt.title('Writing Score')\n",
    "\n",
    "plt.subplots_adjust(hspace = 0.9)\n",
    "plt.show()"
   ]
  },
  {
   "cell_type": "markdown",
   "metadata": {},
   "source": [
    "As you can see here, these plots are not normal and we can verify the distributions of the variables don't follow the normal distribution by using the Jarque-Bera and Normal tests."
   ]
  },
  {
   "cell_type": "code",
   "execution_count": 5,
   "metadata": {},
   "outputs": [
    {
     "name": "stdout",
     "output_type": "stream",
     "text": [
      "Jarque-Bera test statistics is 15.912256686712709 and p value is 0.0003505075386818213\n",
      "Normal test statistics is 15.408960513931822 and p value is 0.00045080293869937836\n",
      "\n",
      "Jarque-Bera test statistics is 11.383300575987892 and p value is 0.0033740202672214448\n",
      "Normal test statistics is 11.11741279628622 and p value is 0.003853758403576582\n",
      "\n",
      "Jarque-Bera test statistics is 13.98509448257235 and p value is 0.0009187033894586527\n",
      "Normal test statistics is 13.606450837263859 and p value is 0.0011101885439899974\n"
     ]
    }
   ],
   "source": [
    "math_jb = stats.jarque_bera(df[\"math score\"])\n",
    "math_nor = stats.normaltest(df[\"math score\"])\n",
    "print('Jarque-Bera test statistics is {0} and p value is {1}'.format(math_jb[0], math_jb[1]))\n",
    "print('Normal test statistics is {0} and p value is {1}'.format(math_nor[0], math_nor[1]))\n",
    "\n",
    "read_jb = stats.jarque_bera(df[\"reading score\"])\n",
    "read_nor = stats.normaltest(df[\"reading score\"])\n",
    "print('\\nJarque-Bera test statistics is {0} and p value is {1}'.format(read_jb[0], read_jb[1]))\n",
    "print('Normal test statistics is {0} and p value is {1}'.format(read_nor[0], read_nor[1]))\n",
    "\n",
    "write_jb = stats.jarque_bera(df[\"writing score\"])\n",
    "write_nor = stats.normaltest(df[\"writing score\"])\n",
    "print('\\nJarque-Bera test statistics is {0} and p value is {1}'.format(write_jb[0], write_jb[1]))\n",
    "print('Normal test statistics is {0} and p value is {1}'.format(write_nor[0], write_nor[1]))"
   ]
  },
  {
   "cell_type": "markdown",
   "metadata": {},
   "source": [
    "As you can see, all pvalue in both tests are less than 0.05 which means that score exams distribution don't follow normal distribution and statistically different from the normal distribution."
   ]
  },
  {
   "cell_type": "code",
   "execution_count": 6,
   "metadata": {},
   "outputs": [],
   "source": [
    "# there is a math score equals to 0, since boxcox transformation only works with positive data,so we are excluding it.\n",
    "math_boxcox,_ = boxcox(df[df[\"math score\"] > 0][\"math score\"])\n",
    "reading_boxcox,_ = boxcox(df[\"reading score\"])\n",
    "writing_boxcox,_ = boxcox(df[\"writing score\"])"
   ]
  },
  {
   "cell_type": "code",
   "execution_count": 7,
   "metadata": {},
   "outputs": [
    {
     "data": {
      "image/png": "[encoded data removed]",
      "text/plain": [
       "<Figure size 720x360 with 3 Axes>"
      ]
     },
     "metadata": {
      "needs_background": "light"
     },
     "output_type": "display_data"
    }
   ],
   "source": [
    "plt.figure(figsize=(10, 5))\n",
    "\n",
    "plt.subplot(1, 3, 1)\n",
    "plt.hist(math_boxcox)\n",
    "plt.title(\"histogram of boxcox math score\")\n",
    "\n",
    "plt.subplot(1, 3, 2)\n",
    "plt.hist(reading_boxcox)\n",
    "plt.title(\"histogram of boxcox reading score\")\n",
    "\n",
    "plt.subplot(1, 3, 3)\n",
    "plt.hist(writing_boxcox)\n",
    "plt.title(\"histogram of boxcox writing score\")\n",
    "\n",
    "plt.show()"
   ]
  },
  {
   "cell_type": "code",
   "execution_count": 8,
   "metadata": {},
   "outputs": [
    {
     "name": "stdout",
     "output_type": "stream",
     "text": [
      "Jarque-Bera test statistics is 1.720098104874378 and p value is 0.4231413256953709\n",
      "Normal test statistics is 1.8323073377495822 and p value is 0.40005482895717037\n",
      "\n",
      "Jarque-Bera test statistics is 4.119778575331906 and p value is 0.1274680814024559\n",
      "Normal test statistics is 5.282274611852865 and p value is 0.07128015609575467\n",
      "\n",
      "Jarque-Bera test statistics is 4.746478090040098 and p value is 0.09317842784055597\n",
      "Normal test statistics is 6.267311355043339 and p value is 0.04355827085023795\n"
     ]
    }
   ],
   "source": [
    "boxcoxmath_jb = jarque_bera(math_boxcox)\n",
    "boxcoxmath_nor = normaltest(math_boxcox)\n",
    "print('Jarque-Bera test statistics is {0} and p value is {1}'.format(boxcoxmath_jb[0], boxcoxmath_jb[1]))\n",
    "print('Normal test statistics is {0} and p value is {1}'.format(boxcoxmath_nor[0], boxcoxmath_nor[1]))\n",
    "\n",
    "boxcoxread_jb = jarque_bera(reading_boxcox)\n",
    "boxcoxread_nor = normaltest(reading_boxcox)\n",
    "print('\\nJarque-Bera test statistics is {0} and p value is {1}'.format(boxcoxread_jb[0], boxcoxread_jb[1]))\n",
    "print('Normal test statistics is {0} and p value is {1}'.format(boxcoxread_nor[0], boxcoxread_nor[1]))\n",
    "\n",
    "boxcoxwrite_jb = jarque_bera(writing_boxcox)\n",
    "boxcoxwrite_nor = normaltest(writing_boxcox)\n",
    "print('\\nJarque-Bera test statistics is {0} and p value is {1}'.format(boxcoxwrite_jb[0], boxcoxwrite_jb[1]))\n",
    "print('Normal test statistics is {0} and p value is {1}'.format(boxcoxwrite_nor[0], boxcoxwrite_nor[1]))"
   ]
  },
  {
   "cell_type": "markdown",
   "metadata": {},
   "source": [
    "As you can see after applying boxcox the distribution more close to normal distribution, also Jarque_bera and normal test show that."
   ]
  },
  {
   "cell_type": "markdown",
   "metadata": {},
   "source": [
    "2.Say we want to use a single variable for the exam scores as our target. For this purpose, create a new variable by taking a weighted average of the exam scores. Check whether this new variable is normally distributed. If it's not normally distributed, apply a Box-Cox transformation and check whether or not the transformed variable is normally distributed."
   ]
  },
  {
   "cell_type": "code",
   "execution_count": 9,
   "metadata": {},
   "outputs": [],
   "source": [
    "exam_score = (df['math score'] + df['reading score'] + df['writing score'])/3"
   ]
  },
  {
   "cell_type": "code",
   "execution_count": 10,
   "metadata": {},
   "outputs": [
    {
     "data": {
      "text/plain": [
       "Text(0.5, 1.0, 'histogram of exam score')"
      ]
     },
     "execution_count": 10,
     "metadata": {},
     "output_type": "execute_result"
    },
    {
     "data": {
      "image/png": "[encoded data removed]",
      "text/plain": [
       "<Figure size 432x288 with 1 Axes>"
      ]
     },
     "metadata": {
      "needs_background": "light"
     },
     "output_type": "display_data"
    }
   ],
   "source": [
    "plt.hist(exam_score)\n",
    "plt.title(\"histogram of exam score\")"
   ]
  },
  {
   "cell_type": "markdown",
   "metadata": {},
   "source": [
    "as you can see, the distribution is not normal. use jarque_ bera and normal test to confirm that."
   ]
  },
  {
   "cell_type": "code",
   "execution_count": 11,
   "metadata": {},
   "outputs": [
    {
     "name": "stdout",
     "output_type": "stream",
     "text": [
      "Jarque-Bera test statistics is 15.453387913085168 and p value is 0.00044089934264401887\n",
      "normal test statistics is 15.186721327231322 and p value is 0.0005037851534494478\n"
     ]
    }
   ],
   "source": [
    "exam_jb = jarque_bera(exam_score)\n",
    "exam_nor = normaltest(exam_score)\n",
    "print('Jarque-Bera test statistics is {0} and p value is {1}'.format(exam_jb[0], exam_jb[1]))\n",
    "print('normal test statistics is {0} and p value is {1}'.format(exam_nor[0], exam_nor[1]))"
   ]
  },
  {
   "cell_type": "code",
   "execution_count": 12,
   "metadata": {},
   "outputs": [],
   "source": [
    "exam_boxcox,_ = boxcox(exam_score)"
   ]
  },
  {
   "cell_type": "code",
   "execution_count": 13,
   "metadata": {},
   "outputs": [
    {
     "data": {
      "text/plain": [
       "Text(0.5, 1.0, 'histogram of boxcox exam score')"
      ]
     },
     "execution_count": 13,
     "metadata": {},
     "output_type": "execute_result"
    },
    {
     "data": {
      "image/png": "[encoded data removed]",
      "text/plain": [
       "<Figure size 432x288 with 2 Axes>"
      ]
     },
     "metadata": {
      "needs_background": "light"
     },
     "output_type": "display_data"
    }
   ],
   "source": [
    "plt.subplot(1,2,1)\n",
    "plt.hist(exam_score)\n",
    "plt.title(\"histogram of exam score\")\n",
    "\n",
    "plt.subplot(1,2,2)\n",
    "plt.hist(exam_boxcox)\n",
    "plt.title('histogram of boxcox exam score')"
   ]
  },
  {
   "cell_type": "code",
   "execution_count": 14,
   "metadata": {},
   "outputs": [
    {
     "name": "stdout",
     "output_type": "stream",
     "text": [
      "Jarque-Bera test statistics is 2.4353987431906026 and p value is 0.29591016374203183\n",
      "normal test statistics is 2.779857245981238 and p value is 0.2490930835165177\n"
     ]
    }
   ],
   "source": [
    "boxcoxexam_jb = jarque_bera(exam_boxcox)\n",
    "boxcoxexam_nor = normaltest(exam_boxcox)\n",
    "print('Jarque-Bera test statistics is {0} and p value is {1}'.format(boxcoxexam_jb[0], boxcoxexam_jb[1]))\n",
    "print('normal test statistics is {0} and p value is {1}'.format(boxcoxexam_nor[0], boxcoxexam_nor[1]))"
   ]
  },
  {
   "cell_type": "markdown",
   "metadata": {},
   "source": [
    "As you see here, after applying boxcox, the distribution more close to normal."
   ]
  },
  {
   "cell_type": "markdown",
   "metadata": {},
   "source": [
    "3.Which variables seem related to the target variable (the newly created variable in the previous question)? If our goal is to explain the determinants of success in exams, which variables in our dataset might be useful?"
   ]
  },
  {
   "cell_type": "code",
   "execution_count": 23,
   "metadata": {},
   "outputs": [
    {
     "data": {
      "image/png": "[encoded data removed]",
      "text/plain": [
       "<Figure size 720x1800 with 5 Axes>"
      ]
     },
     "metadata": {
      "needs_background": "light"
     },
     "output_type": "display_data"
    }
   ],
   "source": [
    "df['exam_score']=exam_score\n",
    "plt.figure(figsize=(10,25))\n",
    "\n",
    "plt.subplot(5,1,1)\n",
    "df.groupby('gender').exam_score.mean().plot(kind='bar')\n",
    "plt.title('Average Exam Score by Gender')\n",
    "\n",
    "plt.subplot(5,1,2)\n",
    "df.groupby('race/ethnicity').exam_score.mean().plot(kind='bar')\n",
    "plt.title('Average Exam Score by Race/Ethnicity')\n",
    "\n",
    "plt.subplot(5,1,3)\n",
    "df.groupby('parental level of education').exam_score.mean().plot(kind='bar')\n",
    "plt.title('Average Exam Score by Parental Level of Education')\n",
    "\n",
    "plt.subplot(5,1,4)\n",
    "df.groupby('lunch').exam_score.mean().plot(kind='bar')\n",
    "plt.title('Average Exam Score by Lunch')\n",
    "\n",
    "plt.subplot(5,1,5)\n",
    "df.groupby('test preparation course').exam_score.mean().plot(kind='bar')\n",
    "plt.title('Average Exam Score by Test Preparation Course')\n",
    "\n",
    "plt.subplots_adjust(hspace=0.9)\n",
    "plt.show()"
   ]
  },
  {
   "cell_type": "markdown",
   "metadata": {},
   "source": [
    "As you can see, all variables can affect to success of exam.\n",
    "\n",
    "In gender, female are more succefull than male.\n",
    "\n",
    "In race/ethnicity, exam score increas from group A to E.\n",
    "\n",
    "In Parental level of education, as you can see here  exam score increases for students  who have parents with bachelor or master degree's education.\n",
    "\n",
    "In lunch, exam score increase for standard type lunch.\n",
    "\n",
    "Also, for Test Preparation course for students who completed  the course are more successful. "
   ]
  },
  {
   "cell_type": "code",
   "execution_count": null,
   "metadata": {},
   "outputs": [],
   "source": []
  }
 ],
 "metadata": {
  "kernelspec": {
   "display_name": "Python 3",
   "language": "python",
   "name": "python3"
  },
  "language_info": {
   "codemirror_mode": {
    "name": "ipython",
    "version": 3
   },
   "file_extension": ".py",
   "mimetype": "text/x-python",
   "name": "python",
   "nbconvert_exporter": "python",
   "pygments_lexer": "ipython3",
   "version": "3.7.3"
  }
 },
 "nbformat": 4,
 "nbformat_minor": 2
}
