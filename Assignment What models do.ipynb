{
 "cells": [
  {
   "cell_type": "markdown",
   "metadata": {},
   "source": [
    "Assignment:\n",
    "    \n",
    "To complete this assignment, submit a link to a Jupyter notebook containing your solutions to the following tasks:"
   ]
  },
  {
   "cell_type": "markdown",
   "metadata": {},
   "source": [
    "1.Try to model the result of a coin toss. In your model, include any features that you think important in explaining the result. Discuss with your mentor about the pros and cons of adding too many features into your model?"
   ]
  },
  {
   "cell_type": "markdown",
   "metadata": {},
   "source": [
    "For designing the model, we assume that we have a fair coin which is with equal head or tail probability. I think we should contain below factors that affect the result:\n",
    "\n",
    "1.Quality of coin such as material, weight, shape or anything else that would bias the probaility. If the coin's shape is not exactly circle or if the coin is too light for materials and weight these can affect the result.\n",
    "\n",
    "2.How to toss the coin is important to the result obtained.\n",
    "\n",
    "3.The environment's situation can affect the result such as humidity, wind, etc.\n",
    "\n",
    "I think if we add lots of feature into the model we can guess some unexpected results, also we can predict and present more accurately. But the disadvantage of adding many features to a model that we would need to experiment all the feature and we would get lots of information which are not useful. I think best way to design the model is using the useful and relevant features to design model.  "
   ]
  },
  {
   "cell_type": "markdown",
   "metadata": {},
   "source": [
    "2.If you ever used Netflix, you should already have realized that it provides some recommendations for you to watch. In data science, this is an example of the so-called recommendations systems. Read this nontechnical blog post of Netflix about how they model their recommendations systems. Then, derive the features they use in their recommendations engines and discuss what else can be incorporated into this model?"
   ]
  },
  {
   "cell_type": "markdown",
   "metadata": {},
   "source": [
    "Netflix’s recommendations system include below features:\n",
    "\n",
    "1.Service interactions such as  viewing history and how other titles are rated.\n",
    "\n",
    "2.See members of similar tastes and preferences on our service.\n",
    "\n",
    "3.Details about titles such as their genre, categories, actors, release year, etc.\n",
    "\n",
    "4.When a title is watched.\n",
    "\n",
    "5.Whcih devices have accessed Netflix using your account.\n",
    "\n",
    "6.Duration of watching.\n",
    "\n",
    "It is Interesting that the subject recommendations system does not include demographic information (such as age or gender) as part of the decision making process. I think not to consider the age, gender and location can be a bias for recommendations systems because people based on age, gender and location may have various preferences. Also, many people chose the movie to watch based on their favorite director, screenwriter or actor/actoress so I suggest that these should be included in the Netflix's recommendation system. \n"
   ]
  },
  {
   "cell_type": "code",
   "execution_count": null,
   "metadata": {},
   "outputs": [],
   "source": []
  }
 ],
 "metadata": {
  "kernelspec": {
   "display_name": "Python 3",
   "language": "python",
   "name": "python3"
  },
  "language_info": {
   "codemirror_mode": {
    "name": "ipython",
    "version": 3
   },
   "file_extension": ".py",
   "mimetype": "text/x-python",
   "name": "python",
   "nbconvert_exporter": "python",
   "pygments_lexer": "ipython3",
   "version": "3.7.3"
  }
 },
 "nbformat": 4,
 "nbformat_minor": 2
}
