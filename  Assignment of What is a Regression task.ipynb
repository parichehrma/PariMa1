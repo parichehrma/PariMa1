{
 "cells": [
  {
   "cell_type": "markdown",
   "metadata": {},
   "source": [
    "Assignment:\n",
    "\n",
    "To close out this checkpoint, answer the following questions. Once you're done, you can compare your answers to the ones found in this notebook, which you can download."
   ]
  },
  {
   "cell_type": "markdown",
   "metadata": {},
   "source": [
    "1.Let's assume that you have World Bank data on financial, economic and social indicators for several countries. You want to measure the factors that affect the level of development in these countries. To this end, you decide to use per capita income as a proxy for the development level, which is defined as the national income divided by the population. You want to use some features in your dataset to predict per capita income. Is this task a classification or a regression task? Why?\n",
    "\n",
    "I think this is regression task, because dataset is large and the per capita income as a target variable is a continuous variable."
   ]
  },
  {
   "cell_type": "markdown",
   "metadata": {},
   "source": [
    "2.Which of the following arguments are false and why?\n",
    "\n",
    "--OLS is a special type of linear regression models: False\n",
    "It is not a special type of linear regression models, it is an optimization algorithm called Ordinary Least Squares (OLS for short).\n",
    "\n",
    "--Regression models become useless if they don’t meet the assumptions of linear regression: False\n",
    "Even if a model doesn’t meet some assumptions, there are some approaches you can take to use linear regression.\n",
    "\n",
    "--Estimation and prediction are the same thing in the context of linear regression models: False\n",
    "Estimation step is second steps of building regression model which is for estimating the coefficients of the features in the training phase. Prediction step is the sixth steps of building regression model which is for predicting the value of the outcome variable using a previously unseen feature value.\n",
    "\n",
    "--Linear regression is only one kind of regression model. Regression problems can also be solved with other kind of models like Support Vector Machines or Random Forests: True"
   ]
  },
  {
   "cell_type": "markdown",
   "metadata": {},
   "source": [
    "3.Assume that your project manager wants you to discover which free services your company offers make your customers buy more of your paid services. Formulate this task as a regression problem and write down the potential outcome and features that you’d like to work on.\n",
    "\n",
    "As you know, Linear regression models the relationship between one or more observed features (free services) and some continuous target variable(buy paid services). Then, based on observed data (buy paid services based on free services), we try to derive a function that describes the target as a function of the feature set. This function produces a line where we can look up feature values and find predicted target values.\n",
    "i think we can use this function:\n",
    "\n",
    "𝑦(buy paid services)=𝛼+𝛽𝑥 (free services1)+𝜃𝑧(free services2)+...\n",
    " "
   ]
  },
  {
   "cell_type": "code",
   "execution_count": null,
   "metadata": {},
   "outputs": [],
   "source": []
  }
 ],
 "metadata": {
  "kernelspec": {
   "display_name": "Python 3",
   "language": "python",
   "name": "python3"
  },
  "language_info": {
   "codemirror_mode": {
    "name": "ipython",
    "version": 3
   },
   "file_extension": ".py",
   "mimetype": "text/x-python",
   "name": "python",
   "nbconvert_exporter": "python",
   "pygments_lexer": "ipython3",
   "version": "3.7.3"
  }
 },
 "nbformat": 4,
 "nbformat_minor": 2
}
