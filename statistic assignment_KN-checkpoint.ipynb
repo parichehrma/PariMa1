{
 "cells": [
  {
   "cell_type": "code",
   "execution_count": 1,
   "metadata": {},
   "outputs": [],
   "source": [
    "import matplotlib.pyplot as plt\n",
    "import numpy as np\n",
    "import pandas as pd\n",
    "import statistics\n",
    "%matplotlib inline"
   ]
  },
  {
   "cell_type": "code",
   "execution_count": null,
   "metadata": {},
   "outputs": [],
   "source": [
    "#Assignment:Greg was 14, Marcia was 12, \n",
    "# Peter was 11, Jan was 10, Bobby was 8, and Cindy was 6 when they started playing the Brady kids on The Brady Bunch. Cousin Oliver was 8 years old when he joined the show. What are the mean, median, and mode of the kids' ages when they first appeared on the show? What are the variance, standard deviation, and standard error?"
   ]
  },
  {
   "cell_type": "code",
   "execution_count": 2,
   "metadata": {},
   "outputs": [
    {
     "name": "stdout",
     "output_type": "stream",
     "text": [
      "('mean: ', 9.857142857142858)\n",
      "('median: ', 10.0)\n",
      "('variance: ', 6.408163265306122)\n",
      "('std. deviation :', 2.531435020952764)\n",
      "('standard error :', 1.0334540197243194)\n",
      "Mode is 8\n"
     ]
    }
   ],
   "source": [
    "ages=[14,12,11,10,8,6,8]\n",
    "def stats(ages):\n",
    "    print(\"mean: \",np.mean(ages))\n",
    "    print(\"median: \",np.median(ages))\n",
    "    print(\"variance: \",np.var(ages))\n",
    "    print(\"std. deviation :\",np.std(ages))\n",
    "    print(\"standard error :\",np.std(ages)/np.sqrt(len(ages)-1))\n",
    "    \n",
    "stats(ages)\n",
    "print(\"Mode is 8\")"
   ]
  },
  {
   "cell_type": "code",
   "execution_count": null,
   "metadata": {},
   "outputs": [],
   "source": [
    "#Assignment2:Using these estimates, \n",
    "# if you had to choose only one estimate of central tendency and one estimate of variance to describe the data, \n",
    "# which would you pick and why?"
   ]
  },
  {
   "cell_type": "code",
   "execution_count": null,
   "metadata": {},
   "outputs": [],
   "source": [
    "###Answer: For central tendency I choose mean because give me average  and for variance,  \n",
    "# I choose standard deviation because give me  how much values differ from the central tendency, \n",
    "# and how much they differ from each other.\n",
    "#?? why mean and median close chooose mean and std??  \n",
    "\n",
    "# it depends on the distributions, if the shape is close to bell (symetrical) then mean/median are the same so choose one of them and then choose std or variance\n",
    "\n",
    "# if a distribution is unknown then choose median/mode \n",
    "\n"
   ]
  },
  {
   "cell_type": "code",
   "execution_count": null,
   "metadata": {},
   "outputs": [],
   "source": [
    "#Assignment3:Next, Cindy has a birthday. Update your estimates- what changed, and what didn't?"
   ]
  },
  {
   "cell_type": "code",
   "execution_count": 12,
   "metadata": {},
   "outputs": [
    {
     "name": "stdout",
     "output_type": "stream",
     "text": [
      "mean:  10.0\n",
      "median:  10.0\n",
      "variance:  5.428571428571429\n",
      "std. deviation : 2.32992949004287\n",
      "standard error : 0.951189731211342\n",
      "Mode is 8\n"
     ]
    }
   ],
   "source": [
    "ages2 =[14,12,11,10,8,7,8]\n",
    "stats(ages2)\n",
    "print(\"Mode is 8\")"
   ]
  },
  {
   "cell_type": "code",
   "execution_count": null,
   "metadata": {},
   "outputs": [],
   "source": [
    "#Assignment4:Nobody likes Cousin Oliver. Maybe the network \n",
    "# should have used an even younger actor. \n",
    "# Replace Cousin Oliver with 1-year-old Jessica, \n",
    "# then recalculate again. \n",
    "# Does this change your choice of central tendency or variance estimation methods?"
   ]
  },
  {
   "cell_type": "code",
   "execution_count": 7,
   "metadata": {},
   "outputs": [
    {
     "name": "stdout",
     "output_type": "stream",
     "text": [
      "mean:  9.0\n",
      "median:  10.0\n",
      "variance:  15.428571428571429\n",
      "std. deviation : 3.927922024247863\n",
      "standard error : 1.6035674514745466\n",
      "There is no mode\n"
     ]
    }
   ],
   "source": [
    "ages3 =[14,12,11,10,8,7,1]\n",
    "stats(ages3)\n",
    "print(\"There is no mode\")"
   ]
  },
  {
   "cell_type": "code",
   "execution_count": null,
   "metadata": {},
   "outputs": [],
   "source": [
    "####???why use median???"
   ]
  },
  {
   "cell_type": "code",
   "execution_count": null,
   "metadata": {},
   "outputs": [],
   "source": [
    "#Assignment5:On the 50th anniversary of The Brady Bunch, \n",
    "# four different magazines asked their readers whether they were fans of the show. \n",
    "# The answers were: TV Guide 20% fans \n",
    "# Entertainment Weekly 23% fans \n",
    "# Pop Culture Today 17% fans \n",
    "# SciPhi Phanatic 5% fans\n",
    "\n",
    "#Based on these numbers, \n",
    "# what percentage of adult Americans would you estimate were Brady Bunch fans on the 50th anniversary of the show?"
   ]
  },
  {
   "cell_type": "code",
   "execution_count": 5,
   "metadata": {},
   "outputs": [
    {
     "name": "stdout",
     "output_type": "stream",
     "text": [
      "('mean: ', 0.11750000000000001)\n",
      "('median: ', 0.11000000000000001)\n",
      "('variance: ', 0.007368750000000001)\n",
      "('std. deviation :', 0.08584142356694699)\n",
      "('standard error :', 0.04956056900399753)\n",
      "There is no mode\n"
     ]
    }
   ],
   "source": [
    "magazine=[0.02,0.23,0.17,0.05]\n",
    "def magazines(magazine):\n",
    "    print(\"mean: \",np.mean(magazine))\n",
    "    print(\"median: \",np.median(magazine))\n",
    "    print(\"variance: \",np.var(magazine))\n",
    "    print(\"std. deviation :\",np.std(magazine))\n",
    "    print(\"standard error :\",np.std(magazine)/np.sqrt(len(magazine)-1))\n",
    "    \n",
    "magazines(magazine)\n",
    "print(\"There is no mode\")"
   ]
  },
  {
   "cell_type": "code",
   "execution_count": null,
   "metadata": {},
   "outputs": [],
   "source": [
    "### ??? how to calculate mean percent numbers???? \n",
    "# See above "
   ]
  },
  {
   "cell_type": "code",
   "execution_count": null,
   "metadata": {},
   "outputs": [],
   "source": [
    "# SciPhi Fanatic is a special interest magazine (scifi)####?? can remove because kind of outlier???? # yes make sense! \n",
    "# whereas the others are more general and represent \n",
    "# a better sample\n",
    "# so we average those three\n",
    "# answer: 20%, approximately #yes! \n"
   ]
  }
 ],
 "metadata": {
  "kernelspec": {
   "display_name": "Python 3",
   "language": "python",
   "name": "python3"
  },
  "language_info": {
   "codemirror_mode": {
    "name": "ipython",
    "version": 3
   },
   "file_extension": ".py",
   "mimetype": "text/x-python",
   "name": "python",
   "nbconvert_exporter": "python",
   "pygments_lexer": "ipython3",
   "version": "3.7.3"
  }
 },
 "nbformat": 4,
 "nbformat_minor": 2
}
