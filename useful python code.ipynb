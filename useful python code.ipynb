{
 "cells": [
  {
   "cell_type": "code",
   "execution_count": 1,
   "metadata": {},
   "outputs": [],
   "source": [
    "import numpy as np\n",
    "import pandas as pd"
   ]
  },
  {
   "cell_type": "code",
   "execution_count": 2,
   "metadata": {},
   "outputs": [
    {
     "name": "stdout",
     "output_type": "stream",
     "text": [
      "Hello, world, I'm Grae\n"
     ]
    }
   ],
   "source": [
    "my_name = \"Grae\"\n",
    "\n",
    "greeting = \"Hello, world, I'm \"\n",
    "\n",
    "def say_hello(name):\n",
    "    if name == \"\":\n",
    "        print(\"You can't introduce yourself if you don't add your name!\")\n",
    "    else:\n",
    "        print(greeting + name)\n",
    "    \n",
    "# Click the \"play\" button to execute this code.\n",
    "say_hello(my_name)"
   ]
  },
  {
   "cell_type": "code",
   "execution_count": 3,
   "metadata": {},
   "outputs": [
    {
     "name": "stdout",
     "output_type": "stream",
     "text": [
      "thinkful-students.slack.com/messages/data-science\n",
      "\n",
      "\n"
     ]
    }
   ],
   "source": [
    "base_url = \"thinkful-students.slack.com/messages/\"\n",
    "# We're going to use newlines (\"\\n\") to format things nicely\n",
    "empty_line = \"\\n\"\n",
    "print(base_url + 'data-science')\n",
    "print(empty_line)\n"
   ]
  },
  {
   "cell_type": "code",
   "execution_count": 4,
   "metadata": {},
   "outputs": [
    {
     "name": "stdout",
     "output_type": "stream",
     "text": [
      "How many bottles of beer are on the wall?6\n",
      "There are 6 bottles of beer on the wall.\n",
      "Would you like to take any down?yes\n",
      "Ok, how many?2\n",
      "There are now 4 bottles on the wall\n"
     ]
    }
   ],
   "source": [
    "# Ask the user for input and store the result in a variable.\n",
    "bottle_count = int(input(\"How many bottles of beer are on the wall?\"))\n",
    "\n",
    "print(\"There are {} bottles of beer on the wall.\".format(bottle_count))\n",
    "\n",
    "if input(\"Would you like to take any down?\") == \"yes\":\n",
    "    removed_bottles = int(input(\"Ok, how many?\"))\n",
    "    bottle_count = bottle_count - removed_bottles\n",
    "    print(\"There are now {} bottles on the wall\".format(bottle_count))\n",
    "else:\n",
    "    print(\"Ok, there are still {} bottles on the wall.\".format(bottle_count))\n"
   ]
  },
  {
   "cell_type": "code",
   "execution_count": 5,
   "metadata": {},
   "outputs": [
    {
     "name": "stdout",
     "output_type": "stream",
     "text": [
      "Hello world, my name is Pari.\n"
     ]
    }
   ],
   "source": [
    "my_name = \"Pari\"\n",
    "print(\"Hello world, my name is \" + my_name + \".\")"
   ]
  },
  {
   "cell_type": "code",
   "execution_count": 6,
   "metadata": {},
   "outputs": [
    {
     "name": "stdout",
     "output_type": "stream",
     "text": [
      "<class 'str'>\n",
      "The first letter is h\n",
      "The second letter is a\n",
      "3\n",
      "I like ham and eggs\n",
      "Bring me 3 shrubberies, Guido!\n"
     ]
    }
   ],
   "source": [
    "# Start by assigning a string to our variable.\n",
    "food = \"ham\"\n",
    "\n",
    "# Let's see what the built-in `type()`function does.\n",
    "type_of_food = type(food)\n",
    "print(type_of_food)\n",
    "\n",
    "# We can access the characters of a string by index with bracket\n",
    "# notation, starting at index zero.\n",
    "first_letter = food[0]\n",
    "second_letter = food[1]\n",
    "print(\"The first letter is \" + first_letter)\n",
    "print(\"The second letter is \" + second_letter)\n",
    "\n",
    "# We can use the built-in `len()` function to get a string's\n",
    "# \"length\", or the number of characters it contains.\n",
    "print(len(food))\n",
    "\n",
    "# We can concatenate two strings together into one string with\n",
    "# the `+` operator.\n",
    "superfood = food + \" and eggs\"\n",
    "print(\"I like \" + superfood)\n",
    "\n",
    "# We can fill in strings using the `.format()` string method.\n",
    "name = \"Guido\"\n",
    "cost = 3\n",
    "demand = \"Bring me {} shrubberies, {}!\"\n",
    "print(demand.format(cost, name))\n"
   ]
  },
  {
   "cell_type": "code",
   "execution_count": 7,
   "metadata": {},
   "outputs": [
    {
     "name": "stdout",
     "output_type": "stream",
     "text": [
      "<class 'int'>\n",
      "<class 'float'>\n",
      "5\n",
      "30\n",
      "1.5\n",
      "1\n",
      "9.42\n",
      "0.6000000000000001\n",
      "False\n",
      "Bring me 3 shrubberies!\n"
     ]
    }
   ],
   "source": [
    "# Start by assigning some numbers to our variables.\n",
    "count = 3\n",
    "pi = 3.14\n",
    "\n",
    "# Let's see what the built-in `type()`function does.\n",
    "type_of_count = type(count)\n",
    "type_of_pi = type(pi)\n",
    "print(type_of_count)\n",
    "print(type_of_pi)\n",
    "\n",
    "# We can do math with numbers. The `%` operator is modulo.\n",
    "print(count + 2)\n",
    "print(count * 10 )\n",
    "print(count / 2)\n",
    "print(1337 % 2)\n",
    "\n",
    "# Putting an int and a float together will give you a float.\n",
    "print(count * pi)\n",
    "\n",
    "# Be careful with floating point math.\n",
    "print(.2 + .4)\n",
    "\n",
    "# Numbers are *not* strings, even if they look similar.\n",
    "print(10 == \"10\")\n",
    "\n",
    "# Thankfully it's easy to convert numbers to strings when you\n",
    "# need to:\n",
    "\n",
    "print(\"Bring me \" + str(count) + \" shrubberies!\")\n",
    "\n"
   ]
  },
  {
   "cell_type": "code",
   "execution_count": 8,
   "metadata": {},
   "outputs": [
    {
     "name": "stdout",
     "output_type": "stream",
     "text": [
      "Welcome Guido, loading launch codes.\n"
     ]
    }
   ],
   "source": [
    "logged_in = True\n",
    "username = \"Guido\"\n",
    "if logged_in == True:\n",
    "    print(\"Welcome \" + username + \", loading launch codes.\")\n",
    "elif logged_in == False:\n",
    "    print(\"Sorry, I can't load the launch codes unless you log in.\")\n",
    "else:\n",
    "    print(\"Hey pal, no trying to hack the mainframe login.\")\n"
   ]
  },
  {
   "cell_type": "code",
   "execution_count": 9,
   "metadata": {},
   "outputs": [
    {
     "name": "stdout",
     "output_type": "stream",
     "text": [
      "What is your name?pari\n",
      "Fantastic, thanks pari\n",
      "pari, you are a Human who needs a profession\n",
      "Your strength is 4 and magic is 5,\n",
      "and your favorite color is Octarine\n",
      "What profession would you like?science\n",
      "Welcome, pari. You are a Human science.\n"
     ]
    }
   ],
   "source": [
    "# Let's assign some variables to start with, including `None` in a couple places. \n",
    "name = None\n",
    "species = \"Human\"\n",
    "strength = 4\n",
    "magic = 5\n",
    "favorite_color = \"Octarine\"\n",
    "profession = None\n",
    "\n",
    "# Hm, maybe we haven't assigned a name yet...\n",
    "if name is None:\n",
    "    name = input(\"What is your name?\")\n",
    "    print(\"Fantastic, thanks {}\".format(name))\n",
    "\n",
    "# Every adventurer needs a profession.\n",
    "if profession is None:\n",
    "    print(\"{}, you are a {} who needs a profession\".format(name, species))\n",
    "    print(\"Your strength is {} and magic is {},\".format(strength, magic))\n",
    "    print(\"and your favorite color is {}\".format(favorite_color))\n",
    "    profession = input(\"What profession would you like?\")\n",
    "\n",
    "print(\"Welcome, {}. You are a {} {}.\".format(name, species, profession))\n"
   ]
  },
  {
   "cell_type": "code",
   "execution_count": 10,
   "metadata": {},
   "outputs": [
    {
     "name": "stdout",
     "output_type": "stream",
     "text": [
      "beans\n",
      "['pie', 'pizza', 'automobile']\n",
      "pie\n",
      "You have 3 items in your inventory\n",
      "['beans', 'coin', 'tome', 'magic sword']\n"
     ]
    }
   ],
   "source": [
    "# Start by assigning some lists to variables.\n",
    "inventory = [\"beans\", \"coin\", \"tome\"]\n",
    "tome_dimensions = [8.5, 11, 2]\n",
    "\n",
    "# Lists in lists...\n",
    "random_stuff = [True, 3.14, [\"pie\", \"pizza\", \"automobile\"]]\n",
    "battleship_board = [[1, 1, 0], [1, 0, 1], [0, 0, 1]]\n",
    "\n",
    "# Just like with strings you can access list elements by index\n",
    "# with bracket notation. We start counting at zero:\n",
    "print(inventory[0])\n",
    "print(random_stuff[2])\n",
    "\n",
    "# With nested lists you can continue digging down with additional\n",
    "# indexes:\n",
    "print(random_stuff[2][0])\n",
    "\n",
    "# Lists have a particular length.\n",
    "inventory_size = len(inventory)\n",
    "print(\"You have {} items in your inventory\".format(inventory_size))\n",
    "\n",
    "# Lists are easy to modify. We'll cover this in more detail later.\n",
    "inventory.append(\"magic sword\")\n",
    "print(inventory)\n"
   ]
  },
  {
   "cell_type": "code",
   "execution_count": 11,
   "metadata": {},
   "outputs": [
    {
     "name": "stdout",
     "output_type": "stream",
     "text": [
      "What is your name?pari\n",
      "Fantastic, thanks pari\n",
      "Octarine\n",
      "Ok pari, you are a Human None.\n"
     ]
    }
   ],
   "source": [
    "# Here's a super simple dictionary:\n",
    "person = {\"name\": \"grae\", \"profession\": \"magician\"}\n",
    "\n",
    "# Dictionaries are great for grouping related data together.\n",
    "# Let's make a dictionary with more data.\n",
    "\n",
    "# Note how we split each key-value pair onto a new line. This\n",
    "# can make dictionaries much easier to read.\n",
    "hero = {\n",
    "    \"name\": None,\n",
    "    \"species\": \"Human\",\n",
    "    \"strength\": 4,\n",
    "    \"magic\": 5,\n",
    "    \"profession\": None,\n",
    "}\n",
    "\n",
    "# Let's check the hero's name again. Just like lists, we use\n",
    "# bracket notation.\n",
    "if hero[\"name\"] is None:\n",
    "    # We modify dictionary values just like we access them.\n",
    "    hero[\"name\"] = input(\"What is your name?\")\n",
    "    print(\"Fantastic, thanks {}\".format(hero[\"name\"]))\n",
    "\n",
    "# You can also add a new key-value pairs using the same bracket\n",
    "# notation syntax.\n",
    "hero[\"favorite_color\"] = \"Octarine\"\n",
    "print(hero[\"favorite_color\"])\n",
    "\n",
    "# Try inserting a line of code below this comment that changes\n",
    "# the hero's `profession` from `None` to another value so the next\n",
    "# print statement works well.\n",
    "\n",
    "print(\"Ok {}, you are a {} {}.\".format(hero[\"name\"], hero[\"species\"], hero[\"profession\"]))\n",
    "\n"
   ]
  },
  {
   "cell_type": "code",
   "execution_count": 12,
   "metadata": {},
   "outputs": [
    {
     "name": "stdout",
     "output_type": "stream",
     "text": [
      "Starting to execute the function body.\n",
      "15\n",
      "Starting to execute the function body.\n",
      "42\n"
     ]
    }
   ],
   "source": [
    "#Here we define a function and include code in the function body\n",
    "# *after* the return statement. That code won't be executed when\n",
    "# the function is called.\n",
    "\n",
    "def triple(num):\n",
    "    print(\"Starting to execute the function body.\")\n",
    "    return num * 3\n",
    "    print(\"Is this line executed?\")\n",
    "    \n",
    "# Once we've defined a function we can go ahead and execute it.\n",
    "print(triple(5))\n",
    "\n",
    "# What happens if you swap lines 7 and 8 above?\n",
    "\n",
    "# Line 11 above doesn't actually *do* anything with the function's\n",
    "# return value. Let's actually put our function to good use by\n",
    "# storing its return value in a variable.\n",
    "meaning_of_life = triple(14)\n",
    "\n",
    "print(meaning_of_life)\n"
   ]
  },
  {
   "cell_type": "code",
   "execution_count": 13,
   "metadata": {},
   "outputs": [],
   "source": [
    "# Here's a function that calculates and returns the variance of\n",
    "# a list of numbers. There's a lot going on here. Don't sweat the\n",
    "# details.\n",
    "\n",
    "def variance(numbers):\n",
    "    length = len(numbers)\n",
    "    mean = sum(numbers) / length\n",
    "    square_differences_from_mean = []\n",
    "    for number in numbers:\n",
    "        square_differences_from_mean.append((number - mean) ** 2)\n",
    "    sum_of_square_differences = sum(square_differences_from_mean)\n",
    "    variance = sum_of_square_differences / length\n",
    "    return variance\n",
    "\n"
   ]
  },
  {
   "cell_type": "code",
   "execution_count": 14,
   "metadata": {},
   "outputs": [
    {
     "name": "stdout",
     "output_type": "stream",
     "text": [
      "12\n",
      "1300\n",
      "26\n"
     ]
    }
   ],
   "source": [
    "# Here is an example of a determinate function. It takes an input\n",
    "# and maps it onto a single return value. Every time you call this\n",
    "# function with the same input you'll get the same output.\n",
    "\n",
    "def double(num):\n",
    "    return num * 2\n",
    "    \n",
    "print(double(6))\n",
    "\n",
    "# Here is an example of a function that isn't  determinate. It\n",
    "# looks at data beyond the argument passed in and outputs a\n",
    "# different value depending on what's happening' with an unrelated\n",
    "# variable. \n",
    "secret_number = 100\n",
    "def multiply_by_secret(num):\n",
    "    return num * secret_number\n",
    "\n",
    "# Here we'll call and print `multiply_by_secret`.\n",
    "print(multiply_by_secret(13))\n",
    "\n",
    "# Here we'll call it again but first change the value of\n",
    "# `secret_number`. Note how line 19 and line 25 are identical but\n",
    "# produce different output.\n",
    "secret_number = 2\n",
    "print(multiply_by_secret(13))\n",
    "\n",
    "# Functions like this that can return a different value when\n",
    "# called with the same argument are not \"determinate\" functions.\n"
   ]
  },
  {
   "cell_type": "code",
   "execution_count": 15,
   "metadata": {},
   "outputs": [
    {
     "name": "stdout",
     "output_type": "stream",
     "text": [
      "0\n",
      "Added 10 new customers\n",
      "Added 3 new customers\n",
      "13\n",
      "42\n"
     ]
    }
   ],
   "source": [
    "# This global variable keeps track of the state of our program.\n",
    "customer_count = 0\n",
    "\n",
    "# This function has a side effect: it changes the state of the\n",
    "# program  when it's called. Note that it doesn't even have a real\n",
    "# return value.\n",
    "def add_customers(n):\n",
    "    global customer_count\n",
    "    customer_count = customer_count + n\n",
    "    print(\"Added {} new customers\".format(n))\n",
    "    return None\n",
    "    \n",
    "# First let's print the state of our program before changing it.\n",
    "print(customer_count)\n",
    "\n",
    "# Now let's call our function and see what happens.\n",
    "add_customers(10)\n",
    "add_customers(3)\n",
    "print(customer_count)\n",
    "\n",
    "# Here is a much better approach.\n",
    "sale_count = 0\n",
    "\n",
    "def add_sale(n, sale_count):\n",
    "    return n + sale_count\n",
    "\n",
    "sale_count = add_sale(40, sale_count)\n",
    "sale_count = add_sale(2, sale_count)\n",
    "print(sale_count)\n",
    "\n",
    "# Stretch goal: Can you think of a way to rewrite the\n",
    "# `add_customers()` function so that it doesn't rely on side\n",
    "# effects and instead makes use of the function's return value?\n",
    "# Hint: you'll also want to change the way you call the function\n",
    "# once you use it.\n",
    "\n"
   ]
  },
  {
   "cell_type": "code",
   "execution_count": 16,
   "metadata": {},
   "outputs": [
    {
     "name": "stdout",
     "output_type": "stream",
     "text": [
      "\n",
      "    Beautiful is better than ugly.\n",
      "    Explicit is better than implicit.\n",
      "    Simple is better than complex.\n",
      "    \n"
     ]
    }
   ],
   "source": [
    "# Either single or double quotes are fine.\n",
    "spam = \"Spam!\"\n",
    "eggs = 'Eggs!'\n",
    "\n",
    "# Python 3 has good Unicode support.\n",
    "pet = 'ねこ'\n",
    "\n",
    "# You can use strings for all sorts of textual data.\n",
    "url = 'http://dashboard.thinkful.com'\n",
    "greeting = 'Hello. My name is Inigo Montoya...'\n",
    "\n",
    "zen = '''\n",
    "    Beautiful is better than ugly.\n",
    "    Explicit is better than implicit.\n",
    "    Simple is better than complex.\n",
    "    '''\n",
    "\n",
    "print(zen)"
   ]
  },
  {
   "cell_type": "code",
   "execution_count": 17,
   "metadata": {},
   "outputs": [
    {
     "name": "stdout",
     "output_type": "stream",
     "text": [
      "He said, \"Sure, let's rock!\"\n",
      "FIRST\tLAST\n",
      "john\tcleese\n",
      "eric\tidle\n"
     ]
    }
   ],
   "source": [
    "# Internal quotation marks can really mess up your strings if you\n",
    "# don't escape them with a backslash.\n",
    "\n",
    "line = \"He said, \\\"Sure, let's rock!\\\"\";\n",
    "print(line)\n",
    "\n",
    "# You can also escape special characters like \\n for newline\n",
    "# and \\t for tab.\n",
    "employees = 'FIRST\\tLAST\\njohn\\tcleese\\neric\\tidle'\n",
    "print(employees)\n"
   ]
  },
  {
   "cell_type": "code",
   "execution_count": 18,
   "metadata": {},
   "outputs": [
    {
     "name": "stdout",
     "output_type": "stream",
     "text": [
      "The quick brown fox jumps over the lazy dog.\n",
      "NaNaNaNaNaNaNaNaNaNaNaNaNaNaNaNa Batman!\n",
      "123\n",
      "100100\n"
     ]
    }
   ],
   "source": [
    "# Use the `+` operator to concatenate.\n",
    "beginning = 'The quick brown fox '\n",
    "end = 'jumps over the lazy dog.'\n",
    "full_sentence = beginning + end\n",
    "print(full_sentence)\n",
    "\n",
    "# Use the `*` operator to repeat.\n",
    "print('Na' * 16 + \" Batman!\")\n",
    "\n",
    "# Remember that strings aren't numbers, even when they may look like\n",
    "# numbers, so trying to do math with them won't work the way you\n",
    "# expect.\n",
    "print(\"12\" + \"3\")\n",
    "print(\"100\" * 2)"
   ]
  },
  {
   "cell_type": "code",
   "execution_count": 19,
   "metadata": {},
   "outputs": [
    {
     "name": "stdout",
     "output_type": "stream",
     "text": [
      "Hello\n",
      "hello\n",
      "True\n",
      "True\n",
      "2\n",
      "True\n",
      "['The', 'quick', 'brown', 'fox']\n",
      "The_quick_brown_fox\n",
      "Player 1 has 42 hit points remaining\n"
     ]
    },
    {
     "data": {
      "text/plain": [
       "'My favorite drink is whiskey with 3 dashes of bitters'"
      ]
     },
     "execution_count": 19,
     "metadata": {},
     "output_type": "execute_result"
    }
   ],
   "source": [
    "# Return a new string with a capitalized first character.\n",
    "'hello'.capitalize()\n",
    "\n",
    "# As you read through these make a guess about what the result\n",
    "# will be, then check your guess by `print()`ing each statement\n",
    "# and running the code.\n",
    "print('hello'.capitalize())\n",
    "\n",
    "# Return a new string where all characters are lower case\n",
    "print('Hello'.lower())\n",
    "'WORLD'.lower()\n",
    "\n",
    "# Check whether all characters are numeric.\n",
    "print('1337'.isdecimal())\n",
    "'p2p'.isdecimal()\n",
    "\n",
    "# Check whether all characters are alpha.\n",
    "print('hello'.isalpha())\n",
    "'p2p'.isalpha()\n",
    "\n",
    "# Find the index of the first occurance of a substring. \n",
    "print('hello'.find('l'))\n",
    "'world'.find('l')\n",
    "\n",
    "# Check the end of a string.\n",
    "print('hello'.endswith('o'))\n",
    "'world'.endswith('o')\n",
    "'world'.endswith('rld')\n",
    "\n",
    "# Split a string into a list of strings at each instance of a\n",
    "# substring.\n",
    "print('The-quick-brown-fox'.split('-'))\n",
    "\n",
    "# Join a list of strings into one single string. Try passing a\n",
    "# different string into this method.\n",
    "print('_'.join(['The', 'quick', 'brown', 'fox']))\n",
    "\n",
    "# \"Format\" a string by replacing `{}` with the arguments you\n",
    "# supply to the function.\n",
    "print('Player {} has {} hit points remaining'.format(1, 42))\n",
    "'My favorite drink is {} with {} dashes of {}'.format('whiskey', 3, 'bitters')\n",
    "\n",
    "# Use the space below to play around with these methods and print\n",
    "#different things out.\n",
    "\n"
   ]
  },
  {
   "cell_type": "code",
   "execution_count": 20,
   "metadata": {},
   "outputs": [
    {
     "name": "stdout",
     "output_type": "stream",
     "text": [
      "2.5\n",
      "2\n",
      "1\n",
      "25\n",
      "<class 'int'>\n",
      "<class 'float'>\n"
     ]
    }
   ],
   "source": [
    "# We can use Python as a calculator to do arithmetic. Let's do\n",
    "# some simple math with numbers and assign the results to\n",
    "# variables.\n",
    "four_plus_two = 4 + 2\n",
    "nine_minus_three = 9 - 3\n",
    "three_times_four = 3 * 4\n",
    "\n",
    "# You have two types of division: \"true division\" and\n",
    "# \"floor division\"\n",
    "true_division = 5 / 2\n",
    "floor_division = 5 // 2\n",
    "print(true_division)\n",
    "print(floor_division)\n",
    "# The modulo operator `%` in action to get a remainder.\n",
    "remainder = 5 % 2\n",
    "print(remainder)\n",
    "\n",
    "# One way to do exponentiation is with the `**` operator.\n",
    "five_squared = 5 ** 2\n",
    "twenty_seven = 3 ** 3\n",
    "print(five_squared)\n",
    "\n",
    "# You can use the built-in `type()` function to see what kind of\n",
    "# data you're dealing with. This is useful when you aren't sure\n",
    "# whether you have an int or a float.\n",
    "answer = 40 + 2\n",
    "print(type(answer))\n",
    "\n",
    "score = 6 / 2\n",
    "print(type(score))\n",
    "\n",
    "# Take a few minutes to add print statements throughout to see\n",
    "# what values are being assigned to the variables above, then\n",
    "# tinker with the numbers to see what happens.\n",
    "\n"
   ]
  },
  {
   "cell_type": "code",
   "execution_count": 21,
   "metadata": {},
   "outputs": [],
   "source": [
    "# Let's demo different ways to work with numbers and assign the\n",
    "# results back to a variable. here are some numbers to start with.\n",
    "score = 99\n",
    "hit_points = 99\n",
    "level = 2\n",
    "\n",
    "# These two methods are equivalent. They both increase the value\n",
    "# assigned to the variable by one.\n",
    "score = score + 1\n",
    "hit_points += 1\n",
    "\n",
    "# Jackpot! Triple our score.\n",
    "score *= 3\n",
    "\n",
    "# Oof, got hit for twenty damage.\n",
    "hit_points -= 20\n",
    "\n",
    "# Advance a level.\n",
    "level += 1\n",
    "\n",
    "# Think about what the values assigned above should be and insert\n",
    "# print statements at different parts of the program to confirm\n",
    "# your guesses.\n"
   ]
  },
  {
   "cell_type": "code",
   "execution_count": 22,
   "metadata": {},
   "outputs": [
    {
     "name": "stdout",
     "output_type": "stream",
     "text": [
      "True\n",
      "False\n",
      "True\n",
      "True\n",
      "True\n",
      "True\n",
      "True\n",
      "False\n",
      "False\n",
      "True\n",
      "True\n",
      "False\n",
      "False\n",
      "False\n"
     ]
    }
   ],
   "source": [
    "# Basics.\n",
    "print(bool(True))\n",
    "print(bool(False))\n",
    "\n",
    "# Numbers and strings evaluate to True.\n",
    "print(bool(1))\n",
    "print(bool(2))\n",
    "print(bool(-1))\n",
    "print(bool('Hello'))\n",
    "print(bool('    '))\n",
    "\n",
    "# Except for 0 and empty string ''.\n",
    "print(bool(0))\n",
    "print(bool(''))\n",
    "\n",
    "# Collections evaluate to True.\n",
    "print(bool([1, 2, 3]))\n",
    "print(bool({'arms': 2, 'legs': 2, 'sword': None}))\n",
    "\n",
    "# Except for empty collections.\n",
    "print(bool([]))\n",
    "print(bool({}))\n",
    "\n",
    "# `None` acts as you might expect.\n",
    "print(bool(None))\n",
    "\n"
   ]
  },
  {
   "cell_type": "code",
   "execution_count": 23,
   "metadata": {},
   "outputs": [
    {
     "name": "stdout",
     "output_type": "stream",
     "text": [
      "False\n",
      "False\n",
      "False\n",
      "0\n",
      "None\n",
      "{}\n",
      "[]\n",
      "0\n"
     ]
    }
   ],
   "source": [
    "# Basics.\n",
    "print(False and False)\n",
    "print(False and True)\n",
    "print(True and False)\n",
    "\n",
    "# When an `and` expression evaluates to False, what are we\n",
    "# actually returning?\n",
    "print(True and 0)\n",
    "print(None and True)\n",
    "print({} and '')\n",
    "\n",
    "# Can you guess what these values will be before you print them?\n",
    "collection = [] and {}\n",
    "number = 1 and (0 and 2)\n",
    "print(collection)\n",
    "print(number)\n"
   ]
  },
  {
   "cell_type": "code",
   "execution_count": 24,
   "metadata": {},
   "outputs": [
    {
     "name": "stdout",
     "output_type": "stream",
     "text": [
      "1\n",
      "1\n",
      "Chocolate\n",
      "Phew!\n",
      "3\n",
      "Hello\n",
      "0\n",
      "[]\n",
      "{}\n",
      "Hmm...\n",
      "[]\n",
      "Guido\n"
     ]
    }
   ],
   "source": [
    "# `or` expressions only need one side to be `True`, so if the\n",
    "# first expression is true that's what is returned.\n",
    "print(1 or 2)\n",
    "print(1 or False)\n",
    "print('Chocolate' or 'Vanilla')\n",
    "\n",
    "# If the first expression evaluates to `False` then an `or`\n",
    "# expression moves to the second expression and returns that,\n",
    "# no matter whether the second value evaluates to `True` or\n",
    "# 'False'.\n",
    "print(False or \"Phew!\")\n",
    "print(0 or 3)\n",
    "print([] or \"Hello\")\n",
    "\n",
    "print('' or 0)\n",
    "print(0 or [])\n",
    "print(None or {})\n",
    "\n",
    "# Can you guess what's going on here before printing?\n",
    "example = False or (\"Hmm...\" or None)\n",
    "name = '' or {} or []\n",
    "logged_in = name or 'Guido'\n",
    "print(example)\n",
    "print(name)\n",
    "print(logged_in)"
   ]
  },
  {
   "cell_type": "code",
   "execution_count": 25,
   "metadata": {},
   "outputs": [
    {
     "name": "stdout",
     "output_type": "stream",
     "text": [
      "False\n",
      "True\n",
      "False\n",
      "True\n",
      "False\n"
     ]
    }
   ],
   "source": [
    "# Here we use `not` to evaulate and return the boolean opposite of\n",
    "# some expressions.\n",
    "print(not True)\n",
    "print(not False)\n",
    "print(not \"Hello!\")\n",
    "print(not 0)\n",
    "print(not 1)\n"
   ]
  },
  {
   "cell_type": "code",
   "execution_count": 26,
   "metadata": {},
   "outputs": [
    {
     "name": "stdout",
     "output_type": "stream",
     "text": [
      "Hello Guido\n",
      "Hello world\n",
      "Hello world\n"
     ]
    }
   ],
   "source": [
    "# Let's define a function that allows for default behavior.\n",
    "def greet(person):\n",
    "    # Line 4 is where the magic happens.\n",
    "    person = person or 'world'\n",
    "    return \"Hello \" + person\n",
    "\n",
    "# Can you guess what the values below are before printing them?\n",
    "greeting_1 = greet('Guido')\n",
    "greeting_2 = greet('')\n",
    "greeting_3 = greet(None)\n",
    "print(greeting_1)\n",
    "print(greeting_2)\n",
    "print(greeting_3)"
   ]
  },
  {
   "cell_type": "code",
   "execution_count": 27,
   "metadata": {},
   "outputs": [
    {
     "name": "stdout",
     "output_type": "stream",
     "text": [
      "Welcome, Guido.\n",
      "Welcome, Alex.\n",
      "You are not authorized.\n"
     ]
    }
   ],
   "source": [
    "#Here is the full if, elif, else conditional statement.\n",
    "def greet_admin(user):\n",
    "    if user == \"Guido\":\n",
    "        return \"Welcome, Guido.\"\n",
    "    elif user == \"Bethany\":\n",
    "        return \"Welcome, Bethany.\"\n",
    "    elif user == \"Alex\":\n",
    "        return \"Welcome, Alex.\"\n",
    "    else:\n",
    "        return \"You are not authorized.\"\n",
    "\n",
    "print(greet_admin(\"Guido\"))\n",
    "print(greet_admin(\"Alex\"))\n",
    "print(greet_admin(\"Grae\"))"
   ]
  },
  {
   "cell_type": "code",
   "execution_count": 28,
   "metadata": {},
   "outputs": [
    {
     "name": "stdout",
     "output_type": "stream",
     "text": [
      "42 IS EVEN\n",
      "3.414 IS NOT AN INTEGER!\n"
     ]
    },
    {
     "ename": "TypeError",
     "evalue": "not all arguments converted during string formatting",
     "output_type": "error",
     "traceback": [
      "\u001b[1;31m---------------------------------------------------------------------------\u001b[0m",
      "\u001b[1;31mTypeError\u001b[0m                                 Traceback (most recent call last)",
      "\u001b[1;32m<ipython-input-28-071b79758c66>\u001b[0m in \u001b[0;36m<module>\u001b[1;34m\u001b[0m\n\u001b[0;32m     16\u001b[0m \u001b[1;33m\u001b[0m\u001b[0m\n\u001b[0;32m     17\u001b[0m \u001b[1;31m# Uh oh. Someone passed in a string <_<\u001b[0m\u001b[1;33m\u001b[0m\u001b[1;33m\u001b[0m\u001b[1;33m\u001b[0m\u001b[0m\n\u001b[1;32m---> 18\u001b[1;33m \u001b[0mprint\u001b[0m\u001b[1;33m(\u001b[0m\u001b[0meven_or_odd\u001b[0m\u001b[1;33m(\u001b[0m\u001b[1;34m\"Chaos Monkey\"\u001b[0m\u001b[1;33m)\u001b[0m\u001b[1;33m)\u001b[0m\u001b[1;33m\u001b[0m\u001b[1;33m\u001b[0m\u001b[0m\n\u001b[0m",
      "\u001b[1;32m<ipython-input-28-071b79758c66>\u001b[0m in \u001b[0;36meven_or_odd\u001b[1;34m(num)\u001b[0m\n\u001b[0;32m      2\u001b[0m \u001b[1;31m# or odd.\u001b[0m\u001b[1;33m\u001b[0m\u001b[1;33m\u001b[0m\u001b[1;33m\u001b[0m\u001b[0m\n\u001b[0;32m      3\u001b[0m \u001b[1;32mdef\u001b[0m \u001b[0meven_or_odd\u001b[0m\u001b[1;33m(\u001b[0m\u001b[0mnum\u001b[0m\u001b[1;33m)\u001b[0m\u001b[1;33m:\u001b[0m\u001b[1;33m\u001b[0m\u001b[1;33m\u001b[0m\u001b[0m\n\u001b[1;32m----> 4\u001b[1;33m     \u001b[1;32mif\u001b[0m \u001b[0mnum\u001b[0m \u001b[1;33m%\u001b[0m \u001b[1;36m2\u001b[0m \u001b[1;33m==\u001b[0m \u001b[1;36m0\u001b[0m\u001b[1;33m:\u001b[0m\u001b[1;33m\u001b[0m\u001b[1;33m\u001b[0m\u001b[0m\n\u001b[0m\u001b[0;32m      5\u001b[0m         \u001b[1;32mreturn\u001b[0m \u001b[1;34m\"{} IS EVEN\"\u001b[0m\u001b[1;33m.\u001b[0m\u001b[0mformat\u001b[0m\u001b[1;33m(\u001b[0m\u001b[0mnum\u001b[0m\u001b[1;33m)\u001b[0m\u001b[1;33m\u001b[0m\u001b[1;33m\u001b[0m\u001b[0m\n\u001b[0;32m      6\u001b[0m     \u001b[1;32melif\u001b[0m \u001b[0mnum\u001b[0m \u001b[1;33m%\u001b[0m \u001b[1;36m2\u001b[0m \u001b[1;33m==\u001b[0m \u001b[1;36m1\u001b[0m\u001b[1;33m:\u001b[0m\u001b[1;33m\u001b[0m\u001b[1;33m\u001b[0m\u001b[0m\n",
      "\u001b[1;31mTypeError\u001b[0m: not all arguments converted during string formatting"
     ]
    }
   ],
   "source": [
    "# Here we define a function to check whether an integer is even\n",
    "# or odd.\n",
    "def even_or_odd(num):\n",
    "    if num % 2 == 0:\n",
    "        return \"{} IS EVEN\".format(num)\n",
    "    elif num % 2 == 1:\n",
    "        return \"{} IS ODD\".format(num)\n",
    "    else:\n",
    "        return \"{} IS NOT AN INTEGER!\".format(num)\n",
    "\n",
    "# Everything works fine when you pass an integer in as expected.\n",
    "print(even_or_odd(42))\n",
    "\n",
    "# Floats are fine too.\n",
    "print(even_or_odd(3.414))\n",
    "\n",
    "# Uh oh. Someone passed in a string <_<\n",
    "print(even_or_odd(\"Chaos Monkey\"))\n"
   ]
  },
  {
   "cell_type": "code",
   "execution_count": 29,
   "metadata": {},
   "outputs": [
    {
     "name": "stdout",
     "output_type": "stream",
     "text": [
      "42 modulo 5 is 2\n",
      "3.414 modulo 5 is 3.414\n",
      "Chaos Monkey isn't even a number!\n"
     ]
    }
   ],
   "source": [
    "# Here's another function that expects a number. Let's use a\n",
    "# try / except statement to handle situations where we get\n",
    "# something weird.\n",
    "def modulo_five(num):\n",
    "    try:\n",
    "        result = num % 5\n",
    "        return \"{} modulo 5 is {}\".format(num, result)\n",
    "    except TypeError:\n",
    "        return \"{} isn't even a number!\".format(num)\n",
    "    \n",
    "\n",
    "# Everything works fine when you pass an integer in as expected.\n",
    "print(modulo_five(42))\n",
    "\n",
    "# Floats are fine too.\n",
    "print(modulo_five(3.414))\n",
    "\n",
    "# Yay, we're properly handling exceptions and using them to\n",
    "# control which code is executed.\n",
    "print(modulo_five(\"Chaos Monkey\"))\n"
   ]
  },
  {
   "cell_type": "code",
   "execution_count": 30,
   "metadata": {},
   "outputs": [
    {
     "name": "stdout",
     "output_type": "stream",
     "text": [
      "42\n",
      "[42, 43]\n",
      "[43, 44, 45]\n",
      "[42, 43]\n",
      "[45, 46]\n"
     ]
    }
   ],
   "source": [
    "# Here we create a list with square brackets.\n",
    "id_numbers = [ 42, 43, 44, 45, 46]\n",
    "\n",
    "# We can access one item in a list at a time using bracket\n",
    "# notation and zero-indexing.\n",
    "print(id_numbers[0])\n",
    "\n",
    "# To access multiple items in a list at a time we create a slice\n",
    "# of the list using bracket notation and two indices.\n",
    "first_two = id_numbers[0:2]\n",
    "middle_three = id_numbers[1:4]\n",
    "\n",
    "print(first_two)\n",
    "print(middle_three)\n",
    "\n",
    "# Just like with string slicing, you can omit one of the index\n",
    "# numbers (or both, if you like to live on the edge) when slicing\n",
    "# and Python will provide reasonable defaults from the beginning\n",
    "# or end of the list.\n",
    "also_first_two = id_numbers[:2]\n",
    "fourth_to_end = id_numbers[3:]\n",
    "\n",
    "print(also_first_two)\n",
    "print(fourth_to_end)\n",
    "\n"
   ]
  },
  {
   "cell_type": "code",
   "execution_count": 31,
   "metadata": {},
   "outputs": [],
   "source": [
    "# Interactive versions of the examples above.\n",
    "\n",
    "letters = ['a', 'b', 'c', 'd']\n",
    "letters.append('e')\n",
    "\n",
    "numbers = ['one', 'two', 'four']\n",
    "numbers.insert(2, 'three')\n",
    "\n",
    "to_do = [\"Conquer world\", \"Install Linux\", \"Change light bulb\"]\n",
    "current_task = to_do.pop()\n",
    "\n",
    "fowl = ['duck', 'duck', 'goose', 'duck']\n",
    "goose_index = fowl.index('goose')\n",
    "\n",
    "words = ['car', 'boat', 'apple', 'banana']\n",
    "words.sort()\n",
    "\n",
    "ids = [15, 26, 41, 1]\n",
    "ids.sort()\n",
    "\n",
    "# Tinker with these lists and list methods and print things out\n",
    "# to assess how well you understand what's going on.\n",
    "\n"
   ]
  },
  {
   "cell_type": "code",
   "execution_count": 32,
   "metadata": {},
   "outputs": [
    {
     "name": "stdout",
     "output_type": "stream",
     "text": [
      "H\n",
      "o\n",
      "w\n",
      "d\n",
      "y\n",
      "n is: 0\n",
      "n is: 1\n",
      "n is: 2\n",
      "n is: 3\n",
      "n is: 4\n",
      "n is: 5\n",
      "n is: 6\n",
      "n is: 7\n",
      "n is: 8\n",
      "n is: 9\n",
      "name\n",
      "role\n",
      "age\n",
      "[0, 2, 4, 6, 8]\n",
      "[1, 9, 25, 49, 81]\n"
     ]
    }
   ],
   "source": [
    "# Let's try for loops with other sequences and collections. Some\n",
    "# of these may be new to you.\n",
    "\n",
    "# Strings.\n",
    "for character in \"Howdy\":\n",
    "    print(character)\n",
    "    \n",
    "# Ranges.\n",
    "for n in range(10):\n",
    "    print(\"n is: {}\".format(n))\n",
    "    \n",
    "# Dictionaries (more on these later).\n",
    "user = {\n",
    "    \"name\": \"Grae\",\n",
    "    \"role\": \"admin\",\n",
    "    \"age\": 35\n",
    "}\n",
    "\n",
    "for property in user:\n",
    "    print(property)\n",
    "    \n",
    "# We can also do more than just print things.\n",
    "even_numbers = []\n",
    "odd_squares = []\n",
    "\n",
    "for n in range(10):\n",
    "    if n % 2 == 0:\n",
    "        even_numbers.append(n)\n",
    "    else:\n",
    "        odd_squares.append(n ** 2)\n",
    "\n",
    "print(even_numbers)\n",
    "print(odd_squares)\n",
    "\n"
   ]
  },
  {
   "cell_type": "code",
   "execution_count": 33,
   "metadata": {},
   "outputs": [
    {
     "name": "stdout",
     "output_type": "stream",
     "text": [
      "To start, n is 24\n",
      "After 1 division(s) n is 12\n",
      "After 2 division(s) n is 6\n",
      "After 3 division(s) n is 3\n",
      "After removing all factors of two, the number is 3\n"
     ]
    }
   ],
   "source": [
    "# Here we'll divide a number evenly by 2 as many times as possible.\n",
    "n = 24\n",
    "divisions = 0\n",
    "print(\"To start, n is {}\".format(n))\n",
    "while n % 2 == 0:\n",
    "    n = n // 2\n",
    "    divisions += 1\n",
    "    print(\"After {} division(s) n is {}\".format(divisions, n))\n",
    "\n",
    "# Now that our loop is done, let's see the result.\n",
    "message = \"After removing all factors of two, the number is {}\"\n",
    "print(message.format(n))\n",
    "\n",
    "# Try changing the value of n above to a larger number,\n",
    "# predicting the result, and then re-running the code to see\n",
    "# if you were right.\n"
   ]
  },
  {
   "cell_type": "code",
   "execution_count": 34,
   "metadata": {},
   "outputs": [
    {
     "name": "stdout",
     "output_type": "stream",
     "text": [
      "what is the password?123\n",
      "I'm sorry, that's not correct.\n",
      "Wrong guesses: 1\n",
      "what is the password?123\n",
      "I'm sorry, that's not correct.\n",
      "Wrong guesses: 2\n",
      "what is the password?hunter2\n",
      "Correct!\n"
     ]
    }
   ],
   "source": [
    "# Read the code below and guess what will happen if you\n",
    "# try several different passwords in the prompt at the right.\n",
    "password = \"\"\n",
    "failed_attempts = 0\n",
    "while password != \"hunter2\":\n",
    "    password = input(\"what is the password?\")\n",
    "    if password == \"hunter2\":\n",
    "        print(\"Correct!\")\n",
    "    else:\n",
    "        print(\"I'm sorry, that's not correct.\")\n",
    "        failed_attempts += 1\n",
    "        print(\"Wrong guesses: {}\".format(failed_attempts))\n"
   ]
  },
  {
   "cell_type": "code",
   "execution_count": 35,
   "metadata": {},
   "outputs": [
    {
     "data": {
      "text/plain": [
       "False"
      ]
     },
     "execution_count": 35,
     "metadata": {},
     "output_type": "execute_result"
    }
   ],
   "source": [
    "# As you read through the code below think about how the\n",
    "# value of dictionary items might be changing, then check\n",
    "# your understanding by printing the values out.\n",
    "\n",
    "# Populate an initial dictionary.\n",
    "stock = {\n",
    "  \"apples\": 5,\n",
    "  \"oranges\": 2,\n",
    "  \"pears\": 10,\n",
    "}\n",
    "\n",
    "# Sell some apples.\n",
    "stock[\"apples\"] -= 2\n",
    "\n",
    "# Use statements like print(stock[\"apples\"]) to check\n",
    "# the value of dictionary items along the way.\n",
    "\n",
    "# Recieve a new shipment topping up your oranges.\n",
    "stock[\"oranges\"] = 20\n",
    "\n",
    "# Begin carrying kale.\n",
    "stock[\"kale\"] = 20\n",
    "\n",
    "# Stop carrying pears.\n",
    "del stock[\"pears\"]\n",
    "\n",
    "# Check to see whether you carry pizzas\n",
    "\"pizza\" in stock\n",
    "\n",
    "# Spend a few minutes modifying the `stock` dictionary\n",
    "# and printing out the results below.\n",
    "\n"
   ]
  },
  {
   "cell_type": "code",
   "execution_count": 36,
   "metadata": {},
   "outputs": [
    {
     "name": "stdout",
     "output_type": "stream",
     "text": [
      "dict_keys(['english', 'japanese', 'german', 'hindi', 'leet'])\n",
      "dict_values(['hello', 'こんにちは', 'hallo', 'नमस्ते', 'h3ll0'])\n",
      "dict_items([('english', 'hello'), ('japanese', 'こんにちは'), ('german', 'hallo'), ('hindi', 'नमस्ते'), ('leet', 'h3ll0')])\n"
     ]
    }
   ],
   "source": [
    "# Create an intial dictionary.\n",
    "greetings = {\n",
    "    \"english\": \"hello\",\n",
    "    \"japanese\": \"こんにちは\",\n",
    "    \"german\": \"hallo\",\n",
    "    \"hindi\": \"नमस्ते\",\n",
    "    \"leet\": \"h3ll0\",\n",
    "}\n",
    "\n",
    "# Use the `.keys()` method to create a list of each key.\n",
    "languages = greetings.keys()\n",
    "print(languages)\n",
    "\n",
    "# Use the `.values()` method to create a list of each value.\n",
    "translations = greetings.values()\n",
    "print(translations)\n",
    "\n",
    "# Use the `.items()` method to create a list of each key: value pair.\n",
    "pairs = greetings.items()\n",
    "print(pairs)\n",
    "\n"
   ]
  },
  {
   "cell_type": "code",
   "execution_count": 37,
   "metadata": {},
   "outputs": [
    {
     "name": "stdout",
     "output_type": "stream",
     "text": [
      "The imaginary component of 1 is 0.\n",
      "The real component of 1 is 1.\n"
     ]
    }
   ],
   "source": [
    "# We'll store 1 in a variable so we can use dot notation.\n",
    "one = 1\n",
    "\n",
    "# See if 1 has an imaginary component.\n",
    "\n",
    "print(\"The imaginary component of 1 is {}.\".format(one.imag))\n",
    "\n",
    "# Nope. Now check the real component.\n",
    "print(\"The real component of 1 is {}.\".format(one.real))\n",
    "\n",
    "# Yup, there it is.\n"
   ]
  },
  {
   "cell_type": "code",
   "execution_count": 38,
   "metadata": {},
   "outputs": [
    {
     "name": "stdout",
     "output_type": "stream",
     "text": [
      "q1 is a red up quark\n",
      "q2 is a blue down quark\n",
      "Now q1 is a blue up quark\n",
      "Now q2 is a red down quark\n",
      "q1 is a <class '__main__.Quark'> object\n"
     ]
    }
   ],
   "source": [
    "class Quark(object):\n",
    "\n",
    "    # This method is automatically called whenever we create a new quark.\n",
    "    # It sets the color and flavor attributes when we create an instance.\n",
    "    def __init__(self, color, flavor):\n",
    "        self.color = color\n",
    "        self.flavor = flavor\n",
    "\n",
    "    # Every quark has the same baryon number, so we set this outside the\n",
    "    # init function.\n",
    "    baryon_number = 1 / 3\n",
    "\n",
    "    # This method models the way quarks interact with one another by\n",
    "    # exchanging color.\n",
    "    def interact(self, other_quark):\n",
    "        self.color, other_quark.color = other_quark.color, self.color\n",
    "\n",
    "    # The repr method controls how the object is represented by the\n",
    "    # print() function and other representations of the object.\n",
    "    def __repr__(self):\n",
    "        return \"{} {} quark\".format(self.color, self.flavor)\n",
    "\n",
    "# Now that we have the class set up, let's call Quark() to create two\n",
    "# actual instances of quark objects.\n",
    "q1 = Quark(\"red\", \"up\")\n",
    "q2 = Quark(\"blue\", \"down\")\n",
    "\n",
    "# Print each object to see what they look like.\n",
    "print(\"q1 is a {}\".format(q1))\n",
    "print(\"q2 is a {}\".format(q2))\n",
    "\n",
    "# Test our interact() method by having q1 and q2 interact.\n",
    "q1.interact(q2)\n",
    "\n",
    "# Print them out again to see how they changed.\n",
    "print(\"Now q1 is a {}\".format(q1))\n",
    "print(\"Now q2 is a {}\".format(q2))\n",
    "\n",
    "# Test how our object deals with the built-in type() function.\n",
    "print(\"q1 is a {} object\".format(type(q1)))\n"
   ]
  },
  {
   "cell_type": "code",
   "execution_count": 39,
   "metadata": {},
   "outputs": [
    {
     "name": "stdout",
     "output_type": "stream",
     "text": [
      "6.283185307179586\n",
      "4\n",
      "San Francisco\n"
     ]
    }
   ],
   "source": [
    "# Let's import the math and the random modules.\n",
    "import math\n",
    "import random\n",
    "\n",
    "# Module attributes are accessed like any other object attribute.\n",
    "circumference = math.pi * 2\n",
    "print(circumference)\n",
    "\n",
    "# Module methods are functions and called like any other function.\n",
    "secret_number = random.choice([1, 2, 3, 4, 5])\n",
    "print(secret_number)\n",
    "\n",
    "destination = random.choice([\"Seattle\", \"New York\", \"Leipzig\", \"San Francisco\"])\n",
    "print(destination)\n",
    "\n"
   ]
  },
  {
   "cell_type": "code",
   "execution_count": 40,
   "metadata": {},
   "outputs": [
    {
     "ename": "ModuleNotFoundError",
     "evalue": "No module named 'demo'",
     "output_type": "error",
     "traceback": [
      "\u001b[1;31m---------------------------------------------------------------------------\u001b[0m",
      "\u001b[1;31mModuleNotFoundError\u001b[0m                       Traceback (most recent call last)",
      "\u001b[1;32m<ipython-input-40-7dbe1b2b0d96>\u001b[0m in \u001b[0;36m<module>\u001b[1;34m\u001b[0m\n\u001b[0;32m      1\u001b[0m \u001b[1;31m# Demonstration of custom modules.\u001b[0m\u001b[1;33m\u001b[0m\u001b[1;33m\u001b[0m\u001b[1;33m\u001b[0m\u001b[0m\n\u001b[0;32m      2\u001b[0m \u001b[1;31m# See the demo.py file above to understand what's going on here.\u001b[0m\u001b[1;33m\u001b[0m\u001b[1;33m\u001b[0m\u001b[1;33m\u001b[0m\u001b[0m\n\u001b[1;32m----> 3\u001b[1;33m \u001b[1;32mimport\u001b[0m \u001b[0mdemo\u001b[0m\u001b[1;33m\u001b[0m\u001b[1;33m\u001b[0m\u001b[0m\n\u001b[0m\u001b[0;32m      4\u001b[0m \u001b[1;33m\u001b[0m\u001b[0m\n\u001b[0;32m      5\u001b[0m \u001b[1;31m# Variables in your .py file are available as attributes.\u001b[0m\u001b[1;33m\u001b[0m\u001b[1;33m\u001b[0m\u001b[1;33m\u001b[0m\u001b[0m\n",
      "\u001b[1;31mModuleNotFoundError\u001b[0m: No module named 'demo'"
     ]
    }
   ],
   "source": [
    "# Demonstration of custom modules.\n",
    "# See the demo.py file above to understand what's going on here.\n",
    "import demo\n",
    "\n",
    "# Variables in your .py file are available as attributes.\n",
    "print(demo.secret_number)\n",
    "\n",
    "# Functions in your .py file are available as methods.\n",
    "print(demo.is_square(5))\n",
    "print(demo.is_square(4))\n"
   ]
  },
  {
   "cell_type": "code",
   "execution_count": null,
   "metadata": {},
   "outputs": [],
   "source": []
  }
 ],
 "metadata": {
  "kernelspec": {
   "display_name": "Python 3",
   "language": "python",
   "name": "python3"
  },
  "language_info": {
   "codemirror_mode": {
    "name": "ipython",
    "version": 3
   },
   "file_extension": ".py",
   "mimetype": "text/x-python",
   "name": "python",
   "nbconvert_exporter": "python",
   "pygments_lexer": "ipython3",
   "version": "3.7.3"
  }
 },
 "nbformat": 4,
 "nbformat_minor": 2
}
