{
 "cells": [
  {
   "cell_type": "markdown",
   "metadata": {},
   "source": [
    "Assignments:\n",
    "\n",
    "To close out this checkpoint, you'll do two assignments. Both require you to create Jupyter notebooks. Please submit links to your notebooks below"
   ]
  },
  {
   "cell_type": "markdown",
   "metadata": {},
   "source": [
    "1.Predicting temperature:\n",
    "\n",
    "In this exercise, you'll work with historical temperature data from the Szeged, Hungary area. The dataset you'll use is a Postgres database version of this dataset from Kaggle. To complete this assignment, submit a Jupyter notebook containing your solutions to the following tasks:\n",
    "\n",
    "First, load the dataset from the weatherinszeged table from Thinkful's database.\n",
    "Build a regression model where the target variable is temperature. As explanatory variables, use humidity, windspeed, windbearing, and pressure. Estimate the model using OLS.\n",
    "Now, check if your model meets the Gauss-Markov Conditions above. If some of the assumptions are not met, discuss the implications of the violations for the correctness of your model.\n",
    "Here are the credentials you can use to connect to the database:\n",
    "\n",
    "postgres_user = 'dsbc_student'\n",
    "postgres_pw = '7*.8G9QH21'\n",
    "postgres_host = '142.93.121.174'\n",
    "postgres_port = '5432'\n",
    "postgres_db = 'weatherinszeged'\n",
    "As in earlier assignments, be sure to close the database connection after initially pulling in your data."
   ]
  },
  {
   "cell_type": "code",
   "execution_count": 1,
   "metadata": {},
   "outputs": [],
   "source": [
    "# Import some libraries and packages:\n",
    "import matplotlib.pyplot as plt\n",
    "import numpy as np\n",
    "import pandas as pd\n",
    "import seaborn as sns\n",
    "from sklearn import linear_model\n",
    "import statsmodels.api as sm\n",
    "import statsmodels.formula.api as smf\n",
    "from scipy.stats import bartlett\n",
    "from scipy.stats import levene\n",
    "from statsmodels.tsa.stattools import acf\n",
    "from scipy.stats import jarque_bera\n",
    "from scipy.stats import normaltest\n",
    "from sqlalchemy import create_engine\n",
    "import warnings\n",
    "warnings.filterwarnings(action=\"ignore\")\n",
    "%matplotlib inline\n",
    "pd.options.display.float_format = '{:.2f}'.format"
   ]
  },
  {
   "cell_type": "code",
   "execution_count": 2,
   "metadata": {},
   "outputs": [],
   "source": [
    "# Connect to dataset:\n",
    "postgres_user = 'dsbc_student'\n",
    "postgres_pw = '7*.8G9QH21'\n",
    "postgres_host = '142.93.121.174'\n",
    "postgres_port = '5432'\n",
    "postgres_db = 'weatherinszeged'\n",
    "engine = create_engine('postgresql://{}:{}@{}:{}/{}'.format( postgres_user, postgres_pw, postgres_host, postgres_port, postgres_db))\n",
    "df = pd.read_sql_query('select * from weatherinszeged', con = engine)\n",
    "engine.dispose()"
   ]
  },
  {
   "cell_type": "code",
   "execution_count": 3,
   "metadata": {
    "scrolled": true
   },
   "outputs": [
    {
     "data": {
      "text/html": [
       "<div>\n",
       "<style scoped>\n",
       "    .dataframe tbody tr th:only-of-type {\n",
       "        vertical-align: middle;\n",
       "    }\n",
       "\n",
       "    .dataframe tbody tr th {\n",
       "        vertical-align: top;\n",
       "    }\n",
       "\n",
       "    .dataframe thead th {\n",
       "        text-align: right;\n",
       "    }\n",
       "</style>\n",
       "<table border=\"1\" class=\"dataframe\">\n",
       "  <thead>\n",
       "    <tr style=\"text-align: right;\">\n",
       "      <th></th>\n",
       "      <th>date</th>\n",
       "      <th>summary</th>\n",
       "      <th>preciptype</th>\n",
       "      <th>temperature</th>\n",
       "      <th>apparenttemperature</th>\n",
       "      <th>humidity</th>\n",
       "      <th>windspeed</th>\n",
       "      <th>windbearing</th>\n",
       "      <th>visibility</th>\n",
       "      <th>loudcover</th>\n",
       "      <th>pressure</th>\n",
       "      <th>dailysummary</th>\n",
       "    </tr>\n",
       "  </thead>\n",
       "  <tbody>\n",
       "    <tr>\n",
       "      <th>0</th>\n",
       "      <td>2006-03-31 22:00:00+00:00</td>\n",
       "      <td>Partly Cloudy</td>\n",
       "      <td>rain</td>\n",
       "      <td>9.47</td>\n",
       "      <td>7.39</td>\n",
       "      <td>0.89</td>\n",
       "      <td>14.12</td>\n",
       "      <td>251.00</td>\n",
       "      <td>15.83</td>\n",
       "      <td>0.00</td>\n",
       "      <td>1015.13</td>\n",
       "      <td>Partly cloudy throughout the day.</td>\n",
       "    </tr>\n",
       "    <tr>\n",
       "      <th>1</th>\n",
       "      <td>2006-03-31 23:00:00+00:00</td>\n",
       "      <td>Partly Cloudy</td>\n",
       "      <td>rain</td>\n",
       "      <td>9.36</td>\n",
       "      <td>7.23</td>\n",
       "      <td>0.86</td>\n",
       "      <td>14.26</td>\n",
       "      <td>259.00</td>\n",
       "      <td>15.83</td>\n",
       "      <td>0.00</td>\n",
       "      <td>1015.63</td>\n",
       "      <td>Partly cloudy throughout the day.</td>\n",
       "    </tr>\n",
       "    <tr>\n",
       "      <th>2</th>\n",
       "      <td>2006-04-01 00:00:00+00:00</td>\n",
       "      <td>Mostly Cloudy</td>\n",
       "      <td>rain</td>\n",
       "      <td>9.38</td>\n",
       "      <td>9.38</td>\n",
       "      <td>0.89</td>\n",
       "      <td>3.93</td>\n",
       "      <td>204.00</td>\n",
       "      <td>14.96</td>\n",
       "      <td>0.00</td>\n",
       "      <td>1015.94</td>\n",
       "      <td>Partly cloudy throughout the day.</td>\n",
       "    </tr>\n",
       "    <tr>\n",
       "      <th>3</th>\n",
       "      <td>2006-04-01 01:00:00+00:00</td>\n",
       "      <td>Partly Cloudy</td>\n",
       "      <td>rain</td>\n",
       "      <td>8.29</td>\n",
       "      <td>5.94</td>\n",
       "      <td>0.83</td>\n",
       "      <td>14.10</td>\n",
       "      <td>269.00</td>\n",
       "      <td>15.83</td>\n",
       "      <td>0.00</td>\n",
       "      <td>1016.41</td>\n",
       "      <td>Partly cloudy throughout the day.</td>\n",
       "    </tr>\n",
       "    <tr>\n",
       "      <th>4</th>\n",
       "      <td>2006-04-01 02:00:00+00:00</td>\n",
       "      <td>Mostly Cloudy</td>\n",
       "      <td>rain</td>\n",
       "      <td>8.76</td>\n",
       "      <td>6.98</td>\n",
       "      <td>0.83</td>\n",
       "      <td>11.04</td>\n",
       "      <td>259.00</td>\n",
       "      <td>15.83</td>\n",
       "      <td>0.00</td>\n",
       "      <td>1016.51</td>\n",
       "      <td>Partly cloudy throughout the day.</td>\n",
       "    </tr>\n",
       "  </tbody>\n",
       "</table>\n",
       "</div>"
      ],
      "text/plain": [
       "                       date        summary preciptype  temperature  \\\n",
       "0 2006-03-31 22:00:00+00:00  Partly Cloudy       rain         9.47   \n",
       "1 2006-03-31 23:00:00+00:00  Partly Cloudy       rain         9.36   \n",
       "2 2006-04-01 00:00:00+00:00  Mostly Cloudy       rain         9.38   \n",
       "3 2006-04-01 01:00:00+00:00  Partly Cloudy       rain         8.29   \n",
       "4 2006-04-01 02:00:00+00:00  Mostly Cloudy       rain         8.76   \n",
       "\n",
       "   apparenttemperature  humidity  windspeed  windbearing  visibility  \\\n",
       "0                 7.39      0.89      14.12       251.00       15.83   \n",
       "1                 7.23      0.86      14.26       259.00       15.83   \n",
       "2                 9.38      0.89       3.93       204.00       14.96   \n",
       "3                 5.94      0.83      14.10       269.00       15.83   \n",
       "4                 6.98      0.83      11.04       259.00       15.83   \n",
       "\n",
       "   loudcover  pressure                       dailysummary  \n",
       "0       0.00   1015.13  Partly cloudy throughout the day.  \n",
       "1       0.00   1015.63  Partly cloudy throughout the day.  \n",
       "2       0.00   1015.94  Partly cloudy throughout the day.  \n",
       "3       0.00   1016.41  Partly cloudy throughout the day.  \n",
       "4       0.00   1016.51  Partly cloudy throughout the day.  "
      ]
     },
     "execution_count": 3,
     "metadata": {},
     "output_type": "execute_result"
    }
   ],
   "source": [
    "# Look at the data set:\n",
    "df.head()"
   ]
  },
  {
   "cell_type": "code",
   "execution_count": 4,
   "metadata": {},
   "outputs": [
    {
     "name": "stdout",
     "output_type": "stream",
     "text": [
      "<class 'pandas.core.frame.DataFrame'>\n",
      "RangeIndex: 96453 entries, 0 to 96452\n",
      "Data columns (total 12 columns):\n",
      "date                   96453 non-null datetime64[ns, UTC]\n",
      "summary                96453 non-null object\n",
      "preciptype             96453 non-null object\n",
      "temperature            96453 non-null float64\n",
      "apparenttemperature    96453 non-null float64\n",
      "humidity               96453 non-null float64\n",
      "windspeed              96453 non-null float64\n",
      "windbearing            96453 non-null float64\n",
      "visibility             96453 non-null float64\n",
      "loudcover              96453 non-null float64\n",
      "pressure               96453 non-null float64\n",
      "dailysummary           96453 non-null object\n",
      "dtypes: datetime64[ns, UTC](1), float64(8), object(3)\n",
      "memory usage: 8.8+ MB\n"
     ]
    }
   ],
   "source": [
    "# Look at the data type and non-null columns:\n",
    "df.info()"
   ]
  },
  {
   "cell_type": "code",
   "execution_count": 5,
   "metadata": {},
   "outputs": [
    {
     "data": {
      "text/plain": [
       "(96453, 12)"
      ]
     },
     "execution_count": 5,
     "metadata": {},
     "output_type": "execute_result"
    }
   ],
   "source": [
    "df.shape"
   ]
  },
  {
   "cell_type": "code",
   "execution_count": 6,
   "metadata": {},
   "outputs": [
    {
     "data": {
      "text/html": [
       "<table class=\"simpletable\">\n",
       "<caption>OLS Regression Results</caption>\n",
       "<tr>\n",
       "  <th>Dep. Variable:</th>       <td>temperature</td>   <th>  R-squared:         </th>  <td>   0.421</td>  \n",
       "</tr>\n",
       "<tr>\n",
       "  <th>Model:</th>                   <td>OLS</td>       <th>  Adj. R-squared:    </th>  <td>   0.421</td>  \n",
       "</tr>\n",
       "<tr>\n",
       "  <th>Method:</th>             <td>Least Squares</td>  <th>  F-statistic:       </th>  <td>1.750e+04</td> \n",
       "</tr>\n",
       "<tr>\n",
       "  <th>Date:</th>             <td>Sat, 11 Jan 2020</td> <th>  Prob (F-statistic):</th>   <td>  0.00</td>   \n",
       "</tr>\n",
       "<tr>\n",
       "  <th>Time:</th>                 <td>16:52:57</td>     <th>  Log-Likelihood:    </th> <td>-3.2821e+05</td>\n",
       "</tr>\n",
       "<tr>\n",
       "  <th>No. Observations:</th>      <td> 96453</td>      <th>  AIC:               </th>  <td>6.564e+05</td> \n",
       "</tr>\n",
       "<tr>\n",
       "  <th>Df Residuals:</th>          <td> 96448</td>      <th>  BIC:               </th>  <td>6.565e+05</td> \n",
       "</tr>\n",
       "<tr>\n",
       "  <th>Df Model:</th>              <td>     4</td>      <th>                     </th>      <td> </td>     \n",
       "</tr>\n",
       "<tr>\n",
       "  <th>Covariance Type:</th>      <td>nonrobust</td>    <th>                     </th>      <td> </td>     \n",
       "</tr>\n",
       "</table>\n",
       "<table class=\"simpletable\">\n",
       "<tr>\n",
       "       <td></td>          <th>coef</th>     <th>std err</th>      <th>t</th>      <th>P>|t|</th>  <th>[0.025</th>    <th>0.975]</th>  \n",
       "</tr>\n",
       "<tr>\n",
       "  <th>const</th>       <td>   37.9264</td> <td>    0.233</td> <td>  162.709</td> <td> 0.000</td> <td>   37.470</td> <td>   38.383</td>\n",
       "</tr>\n",
       "<tr>\n",
       "  <th>humidity</th>    <td>  -32.4962</td> <td>    0.123</td> <td> -264.288</td> <td> 0.000</td> <td>  -32.737</td> <td>  -32.255</td>\n",
       "</tr>\n",
       "<tr>\n",
       "  <th>windspeed</th>   <td>   -0.2014</td> <td>    0.003</td> <td>  -57.557</td> <td> 0.000</td> <td>   -0.208</td> <td>   -0.195</td>\n",
       "</tr>\n",
       "<tr>\n",
       "  <th>windbearing</th> <td>    0.0040</td> <td>    0.000</td> <td>   18.463</td> <td> 0.000</td> <td>    0.004</td> <td>    0.004</td>\n",
       "</tr>\n",
       "<tr>\n",
       "  <th>pressure</th>    <td>   -0.0007</td> <td>    0.000</td> <td>   -3.452</td> <td> 0.001</td> <td>   -0.001</td> <td>   -0.000</td>\n",
       "</tr>\n",
       "</table>\n",
       "<table class=\"simpletable\">\n",
       "<tr>\n",
       "  <th>Omnibus:</th>       <td>3375.432</td> <th>  Durbin-Watson:     </th> <td>   0.059</td>\n",
       "</tr>\n",
       "<tr>\n",
       "  <th>Prob(Omnibus):</th>  <td> 0.000</td>  <th>  Jarque-Bera (JB):  </th> <td>3793.297</td>\n",
       "</tr>\n",
       "<tr>\n",
       "  <th>Skew:</th>           <td>-0.455</td>  <th>  Prob(JB):          </th> <td>    0.00</td>\n",
       "</tr>\n",
       "<tr>\n",
       "  <th>Kurtosis:</th>       <td> 3.339</td>  <th>  Cond. No.          </th> <td>1.06e+04</td>\n",
       "</tr>\n",
       "</table><br/><br/>Warnings:<br/>[1] Standard Errors assume that the covariance matrix of the errors is correctly specified.<br/>[2] The condition number is large, 1.06e+04. This might indicate that there are<br/>strong multicollinearity or other numerical problems."
      ],
      "text/plain": [
       "<class 'statsmodels.iolib.summary.Summary'>\n",
       "\"\"\"\n",
       "                            OLS Regression Results                            \n",
       "==============================================================================\n",
       "Dep. Variable:            temperature   R-squared:                       0.421\n",
       "Model:                            OLS   Adj. R-squared:                  0.421\n",
       "Method:                 Least Squares   F-statistic:                 1.750e+04\n",
       "Date:                Sat, 11 Jan 2020   Prob (F-statistic):               0.00\n",
       "Time:                        16:52:57   Log-Likelihood:            -3.2821e+05\n",
       "No. Observations:               96453   AIC:                         6.564e+05\n",
       "Df Residuals:                   96448   BIC:                         6.565e+05\n",
       "Df Model:                           4                                         \n",
       "Covariance Type:            nonrobust                                         \n",
       "===============================================================================\n",
       "                  coef    std err          t      P>|t|      [0.025      0.975]\n",
       "-------------------------------------------------------------------------------\n",
       "const          37.9264      0.233    162.709      0.000      37.470      38.383\n",
       "humidity      -32.4962      0.123   -264.288      0.000     -32.737     -32.255\n",
       "windspeed      -0.2014      0.003    -57.557      0.000      -0.208      -0.195\n",
       "windbearing     0.0040      0.000     18.463      0.000       0.004       0.004\n",
       "pressure       -0.0007      0.000     -3.452      0.001      -0.001      -0.000\n",
       "==============================================================================\n",
       "Omnibus:                     3375.432   Durbin-Watson:                   0.059\n",
       "Prob(Omnibus):                  0.000   Jarque-Bera (JB):             3793.297\n",
       "Skew:                          -0.455   Prob(JB):                         0.00\n",
       "Kurtosis:                       3.339   Cond. No.                     1.06e+04\n",
       "==============================================================================\n",
       "\n",
       "Warnings:\n",
       "[1] Standard Errors assume that the covariance matrix of the errors is correctly specified.\n",
       "[2] The condition number is large, 1.06e+04. This might indicate that there are\n",
       "strong multicollinearity or other numerical problems.\n",
       "\"\"\""
      ]
     },
     "execution_count": 6,
     "metadata": {},
     "output_type": "execute_result"
    }
   ],
   "source": [
    "# Build a regression model:\n",
    "# Y is the target variable:\n",
    "Y = df['temperature']\n",
    "# X is the feature set which includes humidity, windspeed, windbearing, and pressure:\n",
    "X = df[['humidity', 'windspeed', 'windbearing', 'pressure']]\n",
    "# We need to manually add a constant in statsmodels' sm\n",
    "X = sm.add_constant(X)\n",
    "\n",
    "results = sm.OLS(Y, X).fit()\n",
    "\n",
    "results.summary()"
   ]
  },
  {
   "cell_type": "markdown",
   "metadata": {},
   "source": [
    "Now, check if the model meets the Gauss-Markov Conditions:\n",
    "    \n",
    "1.Assumption one: linearity of the model in its coefficients:\n",
    "The first assumption that must be met is that the target variable should be a linear function of the model's coefficients.\n",
    "The relationship could be quadratic or higher order. A model like 𝑦=𝛽0+𝛽1𝑥1+𝛽2𝑥2^2+𝜖 is completely valid:\n",
    "So,modeling the temperature with linear regression is:\n",
    "\n",
    "temperature = 37.9264 - 32.4962 humidity - 0.2014 windspeed + 0.0040 windbearing - 0.0007 pressure\t\n",
    "\n",
    "As you can see here, the target variable is a linear funcrion of the model's coeficients.\n",
    "\n",
    "?? THIS MEANS THE COEFFICENT NOT BE QUADRATIC ???CORRECT??"
   ]
  },
  {
   "cell_type": "markdown",
   "metadata": {},
   "source": [
    "2.Assumption two: the error term should be zero on average:\n",
    "The error term accounts for the variation in the target variable that is not explained by the features. As long as we include a constant in a model, we shouldn't be worried about this assumption as the constant will force the error terms to be zero on average."
   ]
  },
  {
   "cell_type": "code",
   "execution_count": 7,
   "metadata": {},
   "outputs": [
    {
     "name": "stdout",
     "output_type": "stream",
     "text": [
      "Mean of the errors in the temperature model is: 9.967115112774813e-12\n"
     ]
    }
   ],
   "source": [
    "# To see mean of the errors in the temperature model:\n",
    "predictions = results.predict(X)\n",
    "errors = Y - predictions\n",
    "\n",
    "print(\"Mean of the errors in the temperature model is: {}\".format(np.mean(errors)))"
   ]
  },
  {
   "cell_type": "markdown",
   "metadata": {},
   "source": [
    "Since, we include the constant term in the model, the average of the model's error is effectively zero."
   ]
  },
  {
   "cell_type": "markdown",
   "metadata": {},
   "source": [
    "3.Assumption three: homoscedasticity:A model is homoscedastic when the error variance shouldn't systematically change across observations.\n",
    "When this assumption is not met, we are dealing with heteroscedasticity.\n",
    "Thankfully, there are several formal statistical tests that we can use to determine whether there is heteroscedasticity in the error terms. Here, we demonstrate two of them: Bartlett and Levene tests. The null hypothesis for both tests is that the errors are homoscedastic."
   ]
  },
  {
   "cell_type": "code",
   "execution_count": 8,
   "metadata": {},
   "outputs": [
    {
     "data": {
      "image/png": "[encoded data removed]",
      "text/plain": [
       "<Figure size 432x288 with 1 Axes>"
      ]
     },
     "metadata": {
      "needs_background": "light"
     },
     "output_type": "display_data"
    }
   ],
   "source": [
    "# First, let's checkout whether temperature model suffers from heteroscedasticity by visualizing it:\n",
    "plt.scatter(predictions, errors)\n",
    "plt.xlabel('Predicted')\n",
    "plt.ylabel('Residual')\n",
    "plt.axhline(y=0)\n",
    "plt.title('Residual vs. Predicted')\n",
    "plt.show()"
   ]
  },
  {
   "cell_type": "markdown",
   "metadata": {},
   "source": [
    "It seems that error variance is higher for the higher values of the target variable. This implies that our error terms aren't homoscedastic."
   ]
  },
  {
   "cell_type": "code",
   "execution_count": 9,
   "metadata": {},
   "outputs": [
    {
     "name": "stdout",
     "output_type": "stream",
     "text": [
      "Bartlett test statistic value is 2464.84 and p value is 0\n",
      "Levene test statistic value is 2321.24 and p value is 0\n"
     ]
    }
   ],
   "source": [
    "# Now check with statistical test:\n",
    "bart_stats = bartlett(predictions, errors)\n",
    "lev_stats = levene(predictions, errors)\n",
    "\n",
    "print(\"Bartlett test statistic value is {0:3g} and p value is {1:.3g}\".format(bart_stats[0], bart_stats[1]))\n",
    "print(\"Levene test statistic value is {0:3g} and p value is {1:.3g}\".format(lev_stats[0], lev_stats[1]))"
   ]
  },
  {
   "cell_type": "markdown",
   "metadata": {},
   "source": [
    "The p-values of both tests are 0. So, the test results reject the null hypothesis which means our errors are heteroscedastic."
   ]
  },
  {
   "cell_type": "markdown",
   "metadata": {},
   "source": [
    "Some fixes to heteroscedasticity include transforming the dependent variable by boxcox transformation or log transformations and adding features that target the poorly-estimated areas.\n",
    "But Box-Cox and log transformations only work when all datapoints are positive.\n",
    "so the only way is adding features that target the poorly-estimated areas."
   ]
  },
  {
   "cell_type": "markdown",
   "metadata": {},
   "source": [
    "4.Assumption four: low multicollinearity:\n",
    "Individual features should be only weakly correlated with one another, and ideally completely uncorrelated.\n",
    "To detect multicollinearity, we can simply look at the correlation matrix of the features."
   ]
  },
  {
   "cell_type": "code",
   "execution_count": 16,
   "metadata": {},
   "outputs": [
    {
     "data": {
      "text/plain": [
       "<matplotlib.axes._subplots.AxesSubplot at 0x2876e4489b0>"
      ]
     },
     "execution_count": 16,
     "metadata": {},
     "output_type": "execute_result"
    },
    {
     "data": {
      "image/png": "[encoded data removed]",
      "text/plain": [
       "<Figure size 864x720 with 2 Axes>"
      ]
     },
     "metadata": {
      "needs_background": "light"
     },
     "output_type": "display_data"
    }
   ],
   "source": [
    "# Using heatmap plot to look at the correlation matrix of the features.\n",
    "plt.figure(figsize=(12,10))\n",
    "sns.heatmap(df.corr(), square=True, annot=True, linewidths=.2)"
   ]
  },
  {
   "cell_type": "markdown",
   "metadata": {},
   "source": [
    "As you can see features have very low correlation with each other. Also, only humidity has a highest absolute correlation with target variable(temperature).????correct??\n",
    "\n",
    "Also, if there is correlation of 1 or -1 between a variable and another or several variables, this is called perfect multicollinearity.  \n",
    "\n",
    "Multicollinearity can be fixed by PCA or by discarding some of the correlated features. I think humidity with -0.63 can make multicollinearity. So, by removing humidity feature from model or using PCA, we can make a low multicollinearity."
   ]
  },
  {
   "cell_type": "markdown",
   "metadata": {},
   "source": [
    "5.Assumption five: error terms should be uncorrelated with one another:\n",
    "\n",
    "Error terms should be uncorrelated with one another. In other words, the error term for one observation shouldn't predict the error term for another.\n",
    "To identify whether the error terms are correlated with each other or not, we can graph them. In the graph, we need to observe randomness."
   ]
  },
  {
   "cell_type": "code",
   "execution_count": 11,
   "metadata": {
    "scrolled": true
   },
   "outputs": [
    {
     "data": {
      "image/png": "[encoded data removed]",
      "text/plain": [
       "<Figure size 432x288 with 1 Axes>"
      ]
     },
     "metadata": {
      "needs_background": "light"
     },
     "output_type": "display_data"
    }
   ],
   "source": [
    "# Check error terms are correlated with each other or not:\n",
    "plt.plot(errors)\n",
    "plt.show()"
   ]
  },
  {
   "cell_type": "markdown",
   "metadata": {},
   "source": [
    "It seems that the error terms of our model are uncorrelated with each other."
   ]
  },
  {
   "cell_type": "markdown",
   "metadata": {},
   "source": [
    "Another way to look at correlations between errors is to use the autocorrelation function. This function computes the correlation of a variable with itself. "
   ]
  },
  {
   "cell_type": "code",
   "execution_count": 12,
   "metadata": {},
   "outputs": [
    {
     "data": {
      "image/png": "[encoded data removed]",
      "text/plain": [
       "<Figure size 432x288 with 1 Axes>"
      ]
     },
     "metadata": {
      "needs_background": "light"
     },
     "output_type": "display_data"
    }
   ],
   "source": [
    "# Look at correlations between errors by using the autocorrelation function:\n",
    "acf_data = acf(errors)\n",
    "\n",
    "plt.plot(acf_data[1:])\n",
    "plt.show()"
   ]
  },
  {
   "cell_type": "markdown",
   "metadata": {},
   "source": [
    "So, the autocorrelation between the errors of our temperature model is indeed very low (ranging between 0.70 and 0.95)\n",
    "???correct??? which range would be high?"
   ]
  },
  {
   "cell_type": "markdown",
   "metadata": {},
   "source": [
    "6.Assumption six: features shouldn't be correlated with the errors:\n",
    "Explanatory variables and errors should be independent. If this assumption doesn't hold, then the model's predictions will be unreliable as the estimates of the coefficients would be biased. This assumption is known as the exogeneity.\n",
    "\n",
    "Common causes are omitted variables and simultaneous causation between independent variables and the target.\n",
    "\n",
    "???? I dont know how to check this assumption???????"
   ]
  },
  {
   "cell_type": "markdown",
   "metadata": {},
   "source": [
    "Another important thing to consider is the normality of the error terms. In order to measure the statistical significance of our estimated coefficients, error terms must be normally distributed.\n",
    "\n",
    "More often than not, non-normally distributed errors stem from omitted variables. Including the omitted relevant features to the model may help fix the issue. Sometimes, transforming the dependent variable also helps.\n",
    "\n",
    "There are various ways to check for normality of error terms. An informal way of doing this is by visualizing the errors in a QQ plot or to look at the histogram:"
   ]
  },
  {
   "cell_type": "code",
   "execution_count": 13,
   "metadata": {},
   "outputs": [
    {
     "data": {
      "image/png": "[encoded data removed]",
      "text/plain": [
       "<Figure size 864x360 with 2 Axes>"
      ]
     },
     "metadata": {
      "needs_background": "light"
     },
     "output_type": "display_data"
    }
   ],
   "source": [
    "# Look at the QQ plot andhistogram to visualize errors distribution:\n",
    "rand_nums = np.random.normal(np.mean(errors), np.std(errors), len(errors))\n",
    "plt.figure(figsize=(12,5))\n",
    "\n",
    "plt.subplot(1,2,1)\n",
    "plt.scatter(np.sort(rand_nums), np.sort(errors)) # we sort the arrays\n",
    "plt.xlabel(\"the normally distributed random variable\")\n",
    "plt.ylabel(\"errors of the model\")\n",
    "plt.title(\"QQ plot\")\n",
    "\n",
    "plt.subplot(1,2,2)\n",
    "plt.hist(errors)\n",
    "plt.xlabel(\"errors\")\n",
    "plt.title(\"Histogram of the errors\")\n",
    "\n",
    "plt.tight_layout()\n",
    "plt.show()"
   ]
  },
  {
   "cell_type": "markdown",
   "metadata": {},
   "source": [
    "As can be seen in the charts above, our errors are not normally distributed exactly. But the QQ plot and the histogram imply that the distribution is not very far away from normal."
   ]
  },
  {
   "cell_type": "markdown",
   "metadata": {},
   "source": [
    "We apply formal statistical tests: Jarque Bera and normal tests. \n",
    "\n",
    "The null hypothesis of both tests is that the errors are normally distributed."
   ]
  },
  {
   "cell_type": "code",
   "execution_count": 14,
   "metadata": {},
   "outputs": [
    {
     "name": "stdout",
     "output_type": "stream",
     "text": [
      "Jarque-Bera test statistics is 3793.2967352522674 and p value is 0.0\n",
      "Normality test statistics is 3375.4323076995142 and p value is 0.0\n"
     ]
    }
   ],
   "source": [
    "# Now check with statistical test:\n",
    "\n",
    "jb_stats = jarque_bera(errors)\n",
    "norm_stats = normaltest(errors)\n",
    "\n",
    "print(\"Jarque-Bera test statistics is {0} and p value is {1}\".format(jb_stats[0], jb_stats[1]))\n",
    "print(\"Normality test statistics is {0} and p value is {1}\".format(norm_stats[0], norm_stats[1]))"
   ]
  },
  {
   "cell_type": "markdown",
   "metadata": {},
   "source": [
    "The p-values of both tests indicate that our errors are not normally distributed."
   ]
  }
 ],
 "metadata": {
  "kernelspec": {
   "display_name": "Python 3",
   "language": "python",
   "name": "python3"
  },
  "language_info": {
   "codemirror_mode": {
    "name": "ipython",
    "version": 3
   },
   "file_extension": ".py",
   "mimetype": "text/x-python",
   "name": "python",
   "nbconvert_exporter": "python",
   "pygments_lexer": "ipython3",
   "version": "3.7.3"
  }
 },
 "nbformat": 4,
 "nbformat_minor": 2
}
