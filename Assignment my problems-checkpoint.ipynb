{
 "cells": [
  {
   "cell_type": "code",
   "execution_count": null,
   "metadata": {},
   "outputs": [],
   "source": []
  },
  {
   "cell_type": "code",
   "execution_count": 53,
   "metadata": {},
   "outputs": [],
   "source": [
    "# Questions1:You're given a mystery puzzlebox object. Examine it to make the tests pass and solve this kata.  "
   ]
  },
  {
   "cell_type": "code",
   "execution_count": 58,
   "metadata": {},
   "outputs": [],
   "source": [
    "## this is the class definition # \n",
    "class Puzzlebox(object):\n",
    "    \"\"\"Puzzlebox for codewars kata.\"\"\"\n",
    "    import random\n",
    "\n",
    "    def __init__(self):\n",
    "        self.key = random.randint(1, 99) \n",
    "    \n",
    "    answer = \"Ha, not quite that easy.\\n\"\n",
    "\n",
    "    hint = \"How do you normally unlock things?\\n\"\n",
    "        \n",
    "    hint_two = \"The lock attribute is a method. Have you called it with anything yet?\\n\"\n",
    "\n",
    "    def lock(self, *args):\n",
    "        if len(args) != 1:\n",
    "            return \"This method expects one argument.\\n\"\n",
    "        elif type(args[0]) != int:\n",
    "            return \"This method expects an integer.\\n\"\n",
    "        elif args[0] != self.key:\n",
    "            return \"Did you know the key changes each time you print it?\\n\"\n",
    "        else:\n",
    "            return \"You put the key in the lock! The answer is, of course, 42. Return that number from your answer() function to pass this kata.\\n\"\n",
    "\n",
    "    def __repr__(self):\n",
    "        return \"The built-in dir() function is useful. Continue adding print statements till you know the answer.\\n\"\n",
    "\n",
    "puzzlebox= Puzzlebox() "
   ]
  },
  {
   "cell_type": "code",
   "execution_count": 67,
   "metadata": {},
   "outputs": [
    {
     "data": {
      "text/plain": [
       "'Ha, not quite that easy.\\n'"
      ]
     },
     "execution_count": 67,
     "metadata": {},
     "output_type": "execute_result"
    }
   ],
   "source": [
    "puzzlebox.answer"
   ]
  },
  {
   "cell_type": "code",
   "execution_count": 68,
   "metadata": {},
   "outputs": [
    {
     "data": {
      "text/plain": [
       "'How do you normally unlock things?\\n'"
      ]
     },
     "execution_count": 68,
     "metadata": {},
     "output_type": "execute_result"
    }
   ],
   "source": [
    "puzzlebox.hint"
   ]
  },
  {
   "cell_type": "code",
   "execution_count": 69,
   "metadata": {},
   "outputs": [
    {
     "data": {
      "text/plain": [
       "'The lock attribute is a method. Have you called it with anything yet?\\n'"
      ]
     },
     "execution_count": 69,
     "metadata": {},
     "output_type": "execute_result"
    }
   ],
   "source": [
    "puzzlebox.hint_two"
   ]
  },
  {
   "cell_type": "code",
   "execution_count": 70,
   "metadata": {},
   "outputs": [
    {
     "data": {
      "text/plain": [
       "'Did you know the key changes each time you print it?\\n'"
      ]
     },
     "execution_count": 70,
     "metadata": {},
     "output_type": "execute_result"
    }
   ],
   "source": [
    "puzzlebox.lock(32)"
   ]
  },
  {
   "cell_type": "code",
   "execution_count": 74,
   "metadata": {
    "scrolled": false
   },
   "outputs": [
    {
     "name": "stdout",
     "output_type": "stream",
     "text": [
      "Did you know the key changes each time you print it?\n",
      "\n",
      "Did you know the key changes each time you print it?\n",
      "\n",
      "You put the key in the lock! The answer is, of course, 42. Return that number from your answer() function to pass this kata.\n",
      "\n",
      "Did you know the key changes each time you print it?\n",
      "\n",
      "Did you know the key changes each time you print it?\n",
      "\n",
      "Did you know the key changes each time you print it?\n",
      "\n",
      "Did you know the key changes each time you print it?\n",
      "\n",
      "Did you know the key changes each time you print it?\n",
      "\n",
      "Did you know the key changes each time you print it?\n",
      "\n",
      "Did you know the key changes each time you print it?\n",
      "\n",
      "Did you know the key changes each time you print it?\n",
      "\n",
      "Did you know the key changes each time you print it?\n",
      "\n",
      "Did you know the key changes each time you print it?\n",
      "\n",
      "Did you know the key changes each time you print it?\n",
      "\n",
      "Did you know the key changes each time you print it?\n",
      "\n",
      "Did you know the key changes each time you print it?\n",
      "\n",
      "Did you know the key changes each time you print it?\n",
      "\n",
      "Did you know the key changes each time you print it?\n",
      "\n",
      "Did you know the key changes each time you print it?\n",
      "\n",
      "Did you know the key changes each time you print it?\n",
      "\n",
      "Did you know the key changes each time you print it?\n",
      "\n",
      "Did you know the key changes each time you print it?\n",
      "\n",
      "Did you know the key changes each time you print it?\n",
      "\n",
      "Did you know the key changes each time you print it?\n",
      "\n",
      "Did you know the key changes each time you print it?\n",
      "\n",
      "Did you know the key changes each time you print it?\n",
      "\n",
      "Did you know the key changes each time you print it?\n",
      "\n",
      "Did you know the key changes each time you print it?\n",
      "\n",
      "Did you know the key changes each time you print it?\n",
      "\n",
      "Did you know the key changes each time you print it?\n",
      "\n",
      "Did you know the key changes each time you print it?\n",
      "\n",
      "Did you know the key changes each time you print it?\n",
      "\n",
      "Did you know the key changes each time you print it?\n",
      "\n",
      "Did you know the key changes each time you print it?\n",
      "\n",
      "Did you know the key changes each time you print it?\n",
      "\n",
      "Did you know the key changes each time you print it?\n",
      "\n",
      "Did you know the key changes each time you print it?\n",
      "\n",
      "Did you know the key changes each time you print it?\n",
      "\n",
      "Did you know the key changes each time you print it?\n",
      "\n",
      "Did you know the key changes each time you print it?\n",
      "\n",
      "Did you know the key changes each time you print it?\n",
      "\n",
      "Did you know the key changes each time you print it?\n",
      "\n",
      "Did you know the key changes each time you print it?\n",
      "\n",
      "Did you know the key changes each time you print it?\n",
      "\n",
      "Did you know the key changes each time you print it?\n",
      "\n",
      "Did you know the key changes each time you print it?\n",
      "\n",
      "Did you know the key changes each time you print it?\n",
      "\n",
      "Did you know the key changes each time you print it?\n",
      "\n",
      "Did you know the key changes each time you print it?\n",
      "\n",
      "Did you know the key changes each time you print it?\n",
      "\n",
      "Did you know the key changes each time you print it?\n",
      "\n",
      "Did you know the key changes each time you print it?\n",
      "\n",
      "Did you know the key changes each time you print it?\n",
      "\n",
      "Did you know the key changes each time you print it?\n",
      "\n",
      "Did you know the key changes each time you print it?\n",
      "\n",
      "Did you know the key changes each time you print it?\n",
      "\n",
      "Did you know the key changes each time you print it?\n",
      "\n",
      "Did you know the key changes each time you print it?\n",
      "\n",
      "Did you know the key changes each time you print it?\n",
      "\n",
      "Did you know the key changes each time you print it?\n",
      "\n",
      "Did you know the key changes each time you print it?\n",
      "\n",
      "Did you know the key changes each time you print it?\n",
      "\n",
      "Did you know the key changes each time you print it?\n",
      "\n",
      "Did you know the key changes each time you print it?\n",
      "\n",
      "Did you know the key changes each time you print it?\n",
      "\n",
      "Did you know the key changes each time you print it?\n",
      "\n",
      "Did you know the key changes each time you print it?\n",
      "\n",
      "Did you know the key changes each time you print it?\n",
      "\n",
      "Did you know the key changes each time you print it?\n",
      "\n",
      "Did you know the key changes each time you print it?\n",
      "\n",
      "Did you know the key changes each time you print it?\n",
      "\n",
      "Did you know the key changes each time you print it?\n",
      "\n",
      "Did you know the key changes each time you print it?\n",
      "\n",
      "Did you know the key changes each time you print it?\n",
      "\n",
      "Did you know the key changes each time you print it?\n",
      "\n",
      "Did you know the key changes each time you print it?\n",
      "\n",
      "Did you know the key changes each time you print it?\n",
      "\n",
      "Did you know the key changes each time you print it?\n",
      "\n",
      "Did you know the key changes each time you print it?\n",
      "\n",
      "Did you know the key changes each time you print it?\n",
      "\n",
      "Did you know the key changes each time you print it?\n",
      "\n",
      "Did you know the key changes each time you print it?\n",
      "\n",
      "Did you know the key changes each time you print it?\n",
      "\n",
      "Did you know the key changes each time you print it?\n",
      "\n",
      "Did you know the key changes each time you print it?\n",
      "\n",
      "Did you know the key changes each time you print it?\n",
      "\n",
      "Did you know the key changes each time you print it?\n",
      "\n",
      "Did you know the key changes each time you print it?\n",
      "\n",
      "Did you know the key changes each time you print it?\n",
      "\n",
      "Did you know the key changes each time you print it?\n",
      "\n",
      "Did you know the key changes each time you print it?\n",
      "\n",
      "Did you know the key changes each time you print it?\n",
      "\n",
      "Did you know the key changes each time you print it?\n",
      "\n",
      "Did you know the key changes each time you print it?\n",
      "\n",
      "Did you know the key changes each time you print it?\n",
      "\n",
      "Did you know the key changes each time you print it?\n",
      "\n",
      "Did you know the key changes each time you print it?\n",
      "\n",
      "Did you know the key changes each time you print it?\n",
      "\n",
      "Did you know the key changes each time you print it?\n",
      "\n"
     ]
    }
   ],
   "source": [
    "for i in range(1, 100):\n",
    "    print puzzlebox.lock(i) # this is how you know the answer is 42"
   ]
  },
  {
   "cell_type": "code",
   "execution_count": 75,
   "metadata": {},
   "outputs": [],
   "source": [
    "# result:\n",
    "def answer(puzzlebox):\n",
    "    return 42 "
   ]
  },
  {
   "cell_type": "code",
   "execution_count": 76,
   "metadata": {},
   "outputs": [
    {
     "data": {
      "text/plain": [
       "42"
      ]
     },
     "execution_count": 76,
     "metadata": {},
     "output_type": "execute_result"
    }
   ],
   "source": [
    "answer(puzzlebox) "
   ]
  },
  {
   "cell_type": "code",
   "execution_count": null,
   "metadata": {},
   "outputs": [],
   "source": []
  },
  {
   "cell_type": "code",
   "execution_count": null,
   "metadata": {},
   "outputs": [],
   "source": [
    "## Question2: \n",
    "def modes(data):\n",
    "    d={}\n",
    "    for i in data:\n",
    "        d={i:data.count(i)} # this is wrong!!  ## \n",
    "        print d # use print to debug \n",
    "    if len(d)<= 1:\n",
    "        return []\n",
    "    else:\n",
    "        mode=[]\n",
    "        for i in data:\n",
    "            if (d[i]==max(d.values()) and max(d.values())!=min(d.values())):\n",
    "                mode.append(i)\n",
    "        return mode"
   ]
  },
  {
   "cell_type": "code",
   "execution_count": 12,
   "metadata": {},
   "outputs": [
    {
     "name": "stdout",
     "output_type": "stream",
     "text": [
      "{1: 1}\n",
      "{3: 2}\n",
      "{4: 1}\n",
      "{3: 2}\n"
     ]
    },
    {
     "data": {
      "text/plain": [
       "[]"
      ]
     },
     "execution_count": 12,
     "metadata": {},
     "output_type": "execute_result"
    }
   ],
   "source": [
    "modes([1,3,4,3])"
   ]
  },
  {
   "cell_type": "code",
   "execution_count": 47,
   "metadata": {},
   "outputs": [],
   "source": [
    "#correct func\n",
    "def modes2(data):\n",
    "    import numpy as np\n",
    "    d={}\n",
    "    for i in data:\n",
    "        if i in d: \n",
    "            d[i] += 1\n",
    "        else:\n",
    "            d[i] = 1 \n",
    "    #print 'd:' , d\n",
    "    if len(d)<= 1:\n",
    "        return []\n",
    "    else:\n",
    "        mode=set() #set would store only unqiue values whereas list will can have duplicated values  \n",
    "        for i in data:\n",
    "            if (d[i]==max(d.values()) and max(d.values())!=min(d.values())):\n",
    "                mode.add(i)\n",
    "        return sorted(list(mode))"
   ]
  },
  {
   "cell_type": "code",
   "execution_count": 48,
   "metadata": {},
   "outputs": [
    {
     "data": {
      "text/plain": [
       "[3]"
      ]
     },
     "execution_count": 48,
     "metadata": {},
     "output_type": "execute_result"
    }
   ],
   "source": [
    "#check answers: \n",
    "modes2([1,3,4,3])"
   ]
  },
  {
   "cell_type": "code",
   "execution_count": 49,
   "metadata": {},
   "outputs": [
    {
     "data": {
      "text/plain": [
       "['o', 't']"
      ]
     },
     "execution_count": 49,
     "metadata": {},
     "output_type": "execute_result"
    }
   ],
   "source": [
    "modes2('tomatos')"
   ]
  },
  {
   "cell_type": "code",
   "execution_count": 50,
   "metadata": {},
   "outputs": [
    {
     "data": {
      "text/plain": [
       "[]"
      ]
     },
     "execution_count": 50,
     "metadata": {},
     "output_type": "execute_result"
    }
   ],
   "source": [
    "modes2([\"redder\"])"
   ]
  },
  {
   "cell_type": "code",
   "execution_count": null,
   "metadata": {},
   "outputs": [],
   "source": []
  },
  {
   "cell_type": "code",
   "execution_count": null,
   "metadata": {},
   "outputs": [],
   "source": []
  },
  {
   "cell_type": "code",
   "execution_count": null,
   "metadata": {},
   "outputs": [],
   "source": []
  },
  {
   "cell_type": "code",
   "execution_count": null,
   "metadata": {},
   "outputs": [],
   "source": []
  }
 ],
 "metadata": {
  "kernelspec": {
   "display_name": "Python 3",
   "language": "python",
   "name": "python3"
  },
  "language_info": {
   "codemirror_mode": {
    "name": "ipython",
    "version": 3
   },
   "file_extension": ".py",
   "mimetype": "text/x-python",
   "name": "python",
   "nbconvert_exporter": "python",
   "pygments_lexer": "ipython3",
   "version": "3.7.3"
  }
 },
 "nbformat": 4,
 "nbformat_minor": 2
}
