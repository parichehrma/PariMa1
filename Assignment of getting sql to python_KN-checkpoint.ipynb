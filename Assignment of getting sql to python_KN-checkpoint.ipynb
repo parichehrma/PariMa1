{
 "cells": [
  {
   "cell_type": "code",
   "execution_count": 18,
   "metadata": {},
   "outputs": [],
   "source": [
    "# Import the SQL ALchemy engine\n",
    "from sqlalchemy import create_engine"
   ]
  },
  {
   "cell_type": "code",
   "execution_count": 19,
   "metadata": {},
   "outputs": [],
   "source": [
    "# Database credentials\n",
    "postgres_user = 'dsbc_student'\n",
    "postgres_pw = '7*.8G9QH21'\n",
    "postgres_host = '142.93.121.174'\n",
    "postgres_port = '5432'\n",
    "postgres_db = 'dvdrentals'\n",
    "\n",
    "# use the credentials to start a connection\n",
    "engine = create_engine('postgresql://{}:{}@{}:{}/{}'.format(postgres_user, postgres_pw, postgres_host, postgres_port, postgres_db))\n"
   ]
  },
  {
   "cell_type": "code",
   "execution_count": 20,
   "metadata": {},
   "outputs": [
    {
     "name": "stdout",
     "output_type": "stream",
     "text": [
      "('R', 195L)\n",
      "('NC-17', 210L)\n",
      "('PG', 194L)\n",
      "('PG-13', 223L)\n",
      "('G', 178L)\n"
     ]
    }
   ],
   "source": [
    "# Q1: How many movies are released for each rating?\n",
    "\n",
    "# Use the connection to execute some SQL\n",
    "movie_count = engine.execute('select rating, count(film_id)AS id from film group by rating')\n",
    "\n",
    "# dispose the connection\n",
    "engine.dispose()\n",
    "\n",
    "# Process the results\n",
    "for row in movie_count:\n",
    "    print(row)"
   ]
  },
  {
   "cell_type": "code",
   "execution_count": 21,
   "metadata": {},
   "outputs": [
    {
     "name": "stdout",
     "output_type": "stream",
     "text": [
      "('R', Decimal('4.7743589743589744'))\n",
      "('NC-17', Decimal('5.1428571428571429'))\n",
      "('PG', Decimal('5.0824742268041237'))\n",
      "('PG-13', Decimal('5.0538116591928251'))\n",
      "('G', Decimal('4.8370786516853933'))\n"
     ]
    }
   ],
   "source": [
    "# Q2: What is the average rental duration for each rating?\n",
    "rental_average = engine.execute('select rating, AVG(rental_duration)AS avg  from film group by rating')\n",
    "# dispose the connection\n",
    "engine.dispose()\n",
    "# Process the results\n",
    "for row in rental_average:\n",
    "    print(row)\n",
    "#???how to show the better result without show decimal????"
   ]
  },
  {
   "cell_type": "code",
   "execution_count": 22,
   "metadata": {},
   "outputs": [
    {
     "name": "stdout",
     "output_type": "stream",
     "text": [
      "The mean of movie length is 115.272\n"
     ]
    }
   ],
   "source": [
    "# Q3: What is the mean movie length? Calculate this by defining a function.\n",
    "mean_length = engine.execute('select length from film')\n",
    "engine.dispose()\n",
    "length = [row['length'] for row in mean_length]\n",
    "# print(length)\n",
    "def mean (numbers):\n",
    "    sum = 0\n",
    "    for num in numbers:\n",
    "        sum += num\n",
    "    count = len(numbers)\n",
    "    avg = sum*1.0/count\n",
    "    return avg\n",
    "print('The mean of movie length is {}'.format(mean(length)))"
   ]
  },
  {
   "cell_type": "code",
   "execution_count": 23,
   "metadata": {},
   "outputs": [],
   "source": [
    "# #or \n",
    "# # Q3: What is the mean movie length? Calculate this by defining a function.\n",
    "# mean_length = engine.execute('select AVG(length) as avg from film')\n",
    "# engine.dispose()\n",
    "# [row['avg'] for row in mean_length]\n",
    "# # # print(length)\n",
    "# # def mean (numbers):\n",
    "# #     sum = 0\n",
    "# #     for num in numbers:\n",
    "# #         sum += num\n",
    "# #     count = len(numbers)\n",
    "# #     avg = sum/count\n",
    "# #     return avg\n",
    "# # print('The mean of movie length is {}'.format(mean(length)))"
   ]
  },
  {
   "cell_type": "code",
   "execution_count": 28,
   "metadata": {},
   "outputs": [
    {
     "name": "stdout",
     "output_type": "stream",
     "text": [
      "The median movie length is 114\n"
     ]
    }
   ],
   "source": [
    "# Q4: What is the median movie length? Calculate this by defining a function.\n",
    "import math\n",
    "def median(numbers):\n",
    "    numbers.sort()\n",
    "    count = len(numbers)\n",
    "    if count % 2 == 0 :\n",
    "        mid = int(math.floor(count / 2))\n",
    "        #print numbers \n",
    "        a = numbers[mid]\n",
    "        b = numbers[mid + 1]\n",
    "        avg = (a+b)/2\n",
    "    else:\n",
    "        avg = numbers[math.floor(count / 2)]\n",
    "    return avg\n",
    "print('The median movie length is {}'.format(median(length)))"
   ]
  },
  {
   "cell_type": "code",
   "execution_count": 29,
   "metadata": {},
   "outputs": [
    {
     "name": "stdout",
     "output_type": "stream",
     "text": [
      "The standard deviation of the movie length is 40.4263318186\n"
     ]
    }
   ],
   "source": [
    "# Q5: Calculate the standard deviation of the movie lengths. Calculate this by defining a function.\n",
    "def standard_deviation(numbers):\n",
    "    mean_length = mean(length)\n",
    "    count = len(numbers)    \n",
    "    sum = 0\n",
    "    for num in numbers:\n",
    "        diff = num - mean_length\n",
    "        squared = math.pow(diff,2)\n",
    "        sum += squared\n",
    "    std = math.sqrt(sum/(count-1))\n",
    "    return std\n",
    "print('The standard deviation of the movie length is {}'.format(standard_deviation(length)))        \n",
    "        "
   ]
  },
  {
   "cell_type": "code",
   "execution_count": null,
   "metadata": {},
   "outputs": [],
   "source": []
  }
 ],
 "metadata": {
  "kernelspec": {
   "display_name": "Python 3",
   "language": "python",
   "name": "python3"
  },
  "language_info": {
   "codemirror_mode": {
    "name": "ipython",
    "version": 3
   },
   "file_extension": ".py",
   "mimetype": "text/x-python",
   "name": "python",
   "nbconvert_exporter": "python",
   "pygments_lexer": "ipython3",
   "version": "3.7.3"
  }
 },
 "nbformat": 4,
 "nbformat_minor": 2
}
