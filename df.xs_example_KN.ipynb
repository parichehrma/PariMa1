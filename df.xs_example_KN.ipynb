{
 "cells": [
  {
   "cell_type": "code",
   "execution_count": 5,
   "metadata": {},
   "outputs": [],
   "source": [
    "import itertools\n",
    "import pandas as pd\n",
    "import numpy as np\n",
    "a = ('A', 'B')\n",
    "i = (0, 1, 2)\n",
    "b = (True, False)\n",
    "idx = pd.MultiIndex.from_tuples(list(itertools.product(a, i, b)),\n",
    "                                names=('Alpha', 'Int', 'Bool'))\n",
    "df = pd.DataFrame(np.random.randn(len(idx), 5), index=idx,\n",
    "                  columns=('col1', 'col2', 'col3', 'col4', 'col5'))"
   ]
  },
  {
   "cell_type": "code",
   "execution_count": 6,
   "metadata": {},
   "outputs": [
    {
     "data": {
      "text/html": [
       "<div>\n",
       "<style scoped>\n",
       "    .dataframe tbody tr th:only-of-type {\n",
       "        vertical-align: middle;\n",
       "    }\n",
       "\n",
       "    .dataframe tbody tr th {\n",
       "        vertical-align: top;\n",
       "    }\n",
       "\n",
       "    .dataframe thead th {\n",
       "        text-align: right;\n",
       "    }\n",
       "</style>\n",
       "<table border=\"1\" class=\"dataframe\">\n",
       "  <thead>\n",
       "    <tr style=\"text-align: right;\">\n",
       "      <th></th>\n",
       "      <th></th>\n",
       "      <th></th>\n",
       "      <th>col1</th>\n",
       "      <th>col2</th>\n",
       "      <th>col3</th>\n",
       "      <th>col4</th>\n",
       "      <th>col5</th>\n",
       "    </tr>\n",
       "    <tr>\n",
       "      <th>Alpha</th>\n",
       "      <th>Int</th>\n",
       "      <th>Bool</th>\n",
       "      <th></th>\n",
       "      <th></th>\n",
       "      <th></th>\n",
       "      <th></th>\n",
       "      <th></th>\n",
       "    </tr>\n",
       "  </thead>\n",
       "  <tbody>\n",
       "    <tr>\n",
       "      <th rowspan=\"6\" valign=\"top\">A</th>\n",
       "      <th rowspan=\"2\" valign=\"top\">0</th>\n",
       "      <th>True</th>\n",
       "      <td>-1.751310</td>\n",
       "      <td>-1.907750</td>\n",
       "      <td>-1.153037</td>\n",
       "      <td>-0.040163</td>\n",
       "      <td>-1.165491</td>\n",
       "    </tr>\n",
       "    <tr>\n",
       "      <th>False</th>\n",
       "      <td>1.158203</td>\n",
       "      <td>-0.358442</td>\n",
       "      <td>-1.408439</td>\n",
       "      <td>-0.321942</td>\n",
       "      <td>-0.808778</td>\n",
       "    </tr>\n",
       "    <tr>\n",
       "      <th rowspan=\"2\" valign=\"top\">1</th>\n",
       "      <th>True</th>\n",
       "      <td>0.403452</td>\n",
       "      <td>1.739907</td>\n",
       "      <td>1.256862</td>\n",
       "      <td>2.101672</td>\n",
       "      <td>0.927544</td>\n",
       "    </tr>\n",
       "    <tr>\n",
       "      <th>False</th>\n",
       "      <td>-0.231703</td>\n",
       "      <td>0.984789</td>\n",
       "      <td>-1.384046</td>\n",
       "      <td>-0.520925</td>\n",
       "      <td>0.457788</td>\n",
       "    </tr>\n",
       "    <tr>\n",
       "      <th rowspan=\"2\" valign=\"top\">2</th>\n",
       "      <th>True</th>\n",
       "      <td>2.395389</td>\n",
       "      <td>1.462664</td>\n",
       "      <td>-0.536261</td>\n",
       "      <td>-1.362766</td>\n",
       "      <td>0.036832</td>\n",
       "    </tr>\n",
       "    <tr>\n",
       "      <th>False</th>\n",
       "      <td>-1.095501</td>\n",
       "      <td>-0.927269</td>\n",
       "      <td>0.274682</td>\n",
       "      <td>0.222985</td>\n",
       "      <td>-1.640804</td>\n",
       "    </tr>\n",
       "    <tr>\n",
       "      <th rowspan=\"6\" valign=\"top\">B</th>\n",
       "      <th rowspan=\"2\" valign=\"top\">0</th>\n",
       "      <th>True</th>\n",
       "      <td>0.140677</td>\n",
       "      <td>0.239098</td>\n",
       "      <td>0.676675</td>\n",
       "      <td>0.106644</td>\n",
       "      <td>0.295152</td>\n",
       "    </tr>\n",
       "    <tr>\n",
       "      <th>False</th>\n",
       "      <td>-0.613469</td>\n",
       "      <td>-0.032465</td>\n",
       "      <td>-1.682912</td>\n",
       "      <td>0.781090</td>\n",
       "      <td>0.572621</td>\n",
       "    </tr>\n",
       "    <tr>\n",
       "      <th rowspan=\"2\" valign=\"top\">1</th>\n",
       "      <th>True</th>\n",
       "      <td>-0.927179</td>\n",
       "      <td>0.316741</td>\n",
       "      <td>1.256110</td>\n",
       "      <td>-1.235376</td>\n",
       "      <td>-0.379347</td>\n",
       "    </tr>\n",
       "    <tr>\n",
       "      <th>False</th>\n",
       "      <td>-0.469414</td>\n",
       "      <td>0.264102</td>\n",
       "      <td>1.451640</td>\n",
       "      <td>0.480634</td>\n",
       "      <td>1.339574</td>\n",
       "    </tr>\n",
       "    <tr>\n",
       "      <th rowspan=\"2\" valign=\"top\">2</th>\n",
       "      <th>True</th>\n",
       "      <td>-1.885653</td>\n",
       "      <td>-0.803511</td>\n",
       "      <td>0.613501</td>\n",
       "      <td>-0.397062</td>\n",
       "      <td>1.520485</td>\n",
       "    </tr>\n",
       "    <tr>\n",
       "      <th>False</th>\n",
       "      <td>-2.119368</td>\n",
       "      <td>-0.265060</td>\n",
       "      <td>-0.384963</td>\n",
       "      <td>0.093802</td>\n",
       "      <td>-0.497641</td>\n",
       "    </tr>\n",
       "  </tbody>\n",
       "</table>\n",
       "</div>"
      ],
      "text/plain": [
       "                     col1      col2      col3      col4      col5\n",
       "Alpha Int Bool                                                   \n",
       "A     0   True  -1.751310 -1.907750 -1.153037 -0.040163 -1.165491\n",
       "          False  1.158203 -0.358442 -1.408439 -0.321942 -0.808778\n",
       "      1   True   0.403452  1.739907  1.256862  2.101672  0.927544\n",
       "          False -0.231703  0.984789 -1.384046 -0.520925  0.457788\n",
       "      2   True   2.395389  1.462664 -0.536261 -1.362766  0.036832\n",
       "          False -1.095501 -0.927269  0.274682  0.222985 -1.640804\n",
       "B     0   True   0.140677  0.239098  0.676675  0.106644  0.295152\n",
       "          False -0.613469 -0.032465 -1.682912  0.781090  0.572621\n",
       "      1   True  -0.927179  0.316741  1.256110 -1.235376 -0.379347\n",
       "          False -0.469414  0.264102  1.451640  0.480634  1.339574\n",
       "      2   True  -1.885653 -0.803511  0.613501 -0.397062  1.520485\n",
       "          False -2.119368 -0.265060 -0.384963  0.093802 -0.497641"
      ]
     },
     "execution_count": 6,
     "metadata": {},
     "output_type": "execute_result"
    }
   ],
   "source": [
    "df"
   ]
  },
  {
   "cell_type": "code",
   "execution_count": 8,
   "metadata": {},
   "outputs": [
    {
     "data": {
      "text/plain": [
       "Alpha  Int  Bool \n",
       "A      0    True    -1.751310\n",
       "            False    1.158203\n",
       "       1    True     0.403452\n",
       "            False   -0.231703\n",
       "       2    True     2.395389\n",
       "            False   -1.095501\n",
       "B      0    True     0.140677\n",
       "            False   -0.613469\n",
       "       1    True    -0.927179\n",
       "            False   -0.469414\n",
       "       2    True    -1.885653\n",
       "            False   -2.119368\n",
       "Name: col1, dtype: float64"
      ]
     },
     "execution_count": 8,
     "metadata": {},
     "output_type": "execute_result"
    }
   ],
   "source": [
    "df.col1"
   ]
  },
  {
   "cell_type": "code",
   "execution_count": 10,
   "metadata": {},
   "outputs": [
    {
     "data": {
      "text/plain": [
       "Alpha  Int  Bool \n",
       "A      1    False   -0.231703\n",
       "Name: col1, dtype: float64"
      ]
     },
     "execution_count": 10,
     "metadata": {},
     "output_type": "execute_result"
    }
   ],
   "source": [
    "#but if you want col1 for only group A, int=0 and bool=True \n",
    "df['col1'].xs(('A', 1, 0), level=('Alpha', 'Int', 'Bool')) "
   ]
  },
  {
   "cell_type": "code",
   "execution_count": 11,
   "metadata": {},
   "outputs": [
    {
     "data": {
      "text/plain": [
       "Bool\n",
       "True     0.403452\n",
       "False   -0.231703\n",
       "Name: col1, dtype: float64"
      ]
     },
     "execution_count": 11,
     "metadata": {},
     "output_type": "execute_result"
    }
   ],
   "source": [
    "#now if you want col1 for only group A, int=0  \n",
    "df['col1'].xs(('A', 1), level=('Alpha', 'Int')) "
   ]
  },
  {
   "cell_type": "code",
   "execution_count": 12,
   "metadata": {},
   "outputs": [
    {
     "data": {
      "text/plain": [
       "Int  Bool \n",
       "0    True    -1.751310\n",
       "     False    1.158203\n",
       "1    True     0.403452\n",
       "     False   -0.231703\n",
       "2    True     2.395389\n",
       "     False   -1.095501\n",
       "Name: col1, dtype: float64"
      ]
     },
     "execution_count": 12,
     "metadata": {},
     "output_type": "execute_result"
    }
   ],
   "source": [
    "#now if you want col1 for only group A \n",
    "df['col1'].xs(('A'), level=('Alpha')) "
   ]
  },
  {
   "cell_type": "code",
   "execution_count": null,
   "metadata": {},
   "outputs": [],
   "source": []
  }
 ],
 "metadata": {
  "kernelspec": {
   "display_name": "Python 2",
   "language": "python",
   "name": "python2"
  },
  "language_info": {
   "codemirror_mode": {
    "name": "ipython",
    "version": 2
   },
   "file_extension": ".py",
   "mimetype": "text/x-python",
   "name": "python",
   "nbconvert_exporter": "python",
   "pygments_lexer": "ipython2",
   "version": "2.7.13"
  }
 },
 "nbformat": 4,
 "nbformat_minor": 2
}
