{
 "cells": [
  {
   "cell_type": "markdown",
   "metadata": {},
   "source": [
    "**DRILL:**\n",
    "\n",
    "Implement a binary tree, which is filled with 15 pieces of random data. Your job is to then write a program to traverse the tree using a breadth first traversal. If you want additional practice, try other forms of traversal."
   ]
  },
  {
   "cell_type": "code",
   "execution_count": 1,
   "metadata": {},
   "outputs": [],
   "source": [
    "import random\n",
    "from collections import deque"
   ]
  },
  {
   "cell_type": "code",
   "execution_count": 2,
   "metadata": {
    "scrolled": true
   },
   "outputs": [
    {
     "name": "stdout",
     "output_type": "stream",
     "text": [
      "[39, 2, 83, 31, 36, 97, 46, 77, 47, 71, 56, 37, 95, 5, 15]\n",
      "['39', '\\n']\n",
      "['39', '\\n', '2', '83', '\\n']\n",
      "['39', '\\n', '2', '83', '\\n', '31', '36', '97', '46', '\\n']\n",
      "39\n",
      "283\n",
      "31369746\n",
      "774771563795515\n"
     ]
    }
   ],
   "source": [
    "class Node:\n",
    "\n",
    "       def __init__(self,data):\n",
    "\n",
    "           self.data = data\n",
    "           self.left = None\n",
    "           self.right = None\n",
    "           self.level = None\n",
    "\n",
    "       def __str__(self):\n",
    "\n",
    "           return str(self.data)\n",
    "\n",
    "\n",
    "def BFT(node):\n",
    "\n",
    "    node.level = 1\n",
    "    queue = deque([node])\n",
    "    output = []\n",
    "    current_level = node.level\n",
    "\n",
    "    while len(queue)>0:\n",
    "\n",
    "          current_node = queue.popleft()\n",
    "\n",
    "          if(current_node.level > current_level):\n",
    "              output.append(\"\\n\")\n",
    "              current_level += 1\n",
    "              print(output)\n",
    "\n",
    "          output.append(str(current_node))\n",
    "\n",
    "          if current_node.left != None:\n",
    "             current_node.left.level = current_level + 1 \n",
    "             queue.append(current_node.left) \n",
    "\n",
    "          if current_node.right != None:\n",
    "             current_node.right.level = current_level + 1 \n",
    "             queue.append(current_node.right)\n",
    "\n",
    "                 \n",
    " \n",
    "    return ''.join(output)\n",
    "\n",
    "tree = random.sample(range(100), 15)\n",
    "print(tree)\n",
    "root = Node(tree[0])\n",
    "root.left = Node(tree[1])\n",
    "root.right = Node(tree[2])\n",
    "\n",
    "root.left.left = Node(tree[3])\n",
    "root.left.right = Node(tree[4])\n",
    "\n",
    "root.right.left = Node(tree[5])\n",
    "root.right.right = Node(tree[6])\n",
    "\n",
    "root.left.left.left = Node(tree[7])\n",
    "root.left.left.right = Node(tree[8])\n",
    "\n",
    "root.left.right.left = Node(tree[9])\n",
    "root.left.right.right = Node(tree[10])\n",
    "\n",
    "root.right.left.left = Node(tree[11])\n",
    "root.right.left.right = Node(tree[12])\n",
    "\n",
    "root.right.right.left = Node(tree[13])\n",
    "root.right.right.right = Node(tree[14])\n",
    "print(BFT(root))\n",
    "\n"
   ]
  },
  {
   "cell_type": "code",
   "execution_count": null,
   "metadata": {},
   "outputs": [],
   "source": []
  }
 ],
 "metadata": {
  "kernelspec": {
   "display_name": "Python 3",
   "language": "python",
   "name": "python3"
  },
  "language_info": {
   "codemirror_mode": {
    "name": "ipython",
    "version": 3
   },
   "file_extension": ".py",
   "mimetype": "text/x-python",
   "name": "python",
   "nbconvert_exporter": "python",
   "pygments_lexer": "ipython3",
   "version": "3.7.3"
  }
 },
 "nbformat": 4,
 "nbformat_minor": 2
}
